{
 "cells": [
  {
   "cell_type": "markdown",
   "id": "9d0ad330",
   "metadata": {},
   "source": [
    "- Name: The name of the employee.\n",
    "- Contact_Number: The contact number of the employee.\n",
    "- Gender: The gender of the employee.\n",
    "- Age: The age of the employee.\n",
    "- 10th_percentage: The percentage scored in 10th grade.\n",
    "- Tenthth_Board: The board of education for 10th grade.\n",
    "- 12th_percentage: The percentage scored in 12th grade.\n",
    "- 12th_board: The board of education for 12th grade.\n",
    "- 12th_field: The field of study in 12th grade.\n",
    "- Degree_Field: The field of the degree pursued.\n",
    "- Degree_Percentage: The percentage scored in the degree.\n",
    "- History_Of_Backlogs: Whether the employee had any backlogs in their academic history.\n",
    "- English_Test_Percentage: The percentage scored in an English proficiency test.\n",
    "- Department_Applied_To: The department the employee applied to.\n",
    "- MBA_Grade: The grade in MBA.\n",
    "- Work_Experience: The work experience of the employee.\n",
    "- Salary_expectations_per_month: The expected salary per month."
   ]
  },
  {
   "cell_type": "markdown",
   "id": "ec2c24d3",
   "metadata": {},
   "source": [
    "To perform a detailed analysis, we will go through the following steps:\n",
    "\n",
    "- Data Cleaning: Check for missing values, incorrect formats, outliers, and clean the data accordingly.\n",
    "- Exploratory Data Analysis (EDA): Analyze distributions of various features, relationships between different variables, and gather insights.\n",
    "- Statistical Analysis: Perform statistical tests if necessary to understand correlations or differences between groups.\n",
    "- Data Visualization: Create visualizations to support our analysis and findings."
   ]
  },
  {
   "cell_type": "code",
   "execution_count": 1,
   "id": "3c8bd4bd",
   "metadata": {},
   "outputs": [],
   "source": [
    "# First, I need to load the dataset to understand its structure and content.\n",
    "import pandas as pd"
   ]
  },
  {
   "cell_type": "code",
   "execution_count": 2,
   "id": "15662fc7",
   "metadata": {},
   "outputs": [],
   "source": [
    "# Load the dataset\n",
    "file_path = 'Employee Dataset.csv'\n",
    "employee_data = pd.read_csv(file_path)"
   ]
  },
  {
   "cell_type": "code",
   "execution_count": 3,
   "id": "ff081471",
   "metadata": {},
   "outputs": [
    {
     "data": {
      "text/html": [
       "<div>\n",
       "<style scoped>\n",
       "    .dataframe tbody tr th:only-of-type {\n",
       "        vertical-align: middle;\n",
       "    }\n",
       "\n",
       "    .dataframe tbody tr th {\n",
       "        vertical-align: top;\n",
       "    }\n",
       "\n",
       "    .dataframe thead th {\n",
       "        text-align: right;\n",
       "    }\n",
       "</style>\n",
       "<table border=\"1\" class=\"dataframe\">\n",
       "  <thead>\n",
       "    <tr style=\"text-align: right;\">\n",
       "      <th></th>\n",
       "      <th>Name</th>\n",
       "      <th>Contact_Number</th>\n",
       "      <th>Gender</th>\n",
       "      <th>Age</th>\n",
       "      <th>10th_percentage</th>\n",
       "      <th>Tenthth_Board</th>\n",
       "      <th>12th_percentage</th>\n",
       "      <th>12th_board</th>\n",
       "      <th>12th_field</th>\n",
       "      <th>Degree_Field</th>\n",
       "      <th>Degree_Percentage</th>\n",
       "      <th>History_Of_Backlogs</th>\n",
       "      <th>English_Test_Percentage</th>\n",
       "      <th>Department_Applied_To</th>\n",
       "      <th>MBA_Grade</th>\n",
       "      <th>Work_Experience</th>\n",
       "      <th>Salary_expectations_per_month</th>\n",
       "    </tr>\n",
       "  </thead>\n",
       "  <tbody>\n",
       "    <tr>\n",
       "      <th>0</th>\n",
       "      <td>SMITH</td>\n",
       "      <td>7.442747e+09</td>\n",
       "      <td>M</td>\n",
       "      <td>24.0</td>\n",
       "      <td>67.00</td>\n",
       "      <td>Others</td>\n",
       "      <td>91.00</td>\n",
       "      <td>Others</td>\n",
       "      <td>Commerce</td>\n",
       "      <td>MBA</td>\n",
       "      <td>58.00</td>\n",
       "      <td>1</td>\n",
       "      <td>55</td>\n",
       "      <td>Mkt&amp;HR</td>\n",
       "      <td>58.8</td>\n",
       "      <td>0</td>\n",
       "      <td>3.0</td>\n",
       "    </tr>\n",
       "    <tr>\n",
       "      <th>1</th>\n",
       "      <td>JOHNSON</td>\n",
       "      <td>6.824883e+09</td>\n",
       "      <td>M</td>\n",
       "      <td>26.0</td>\n",
       "      <td>79.33</td>\n",
       "      <td>Central</td>\n",
       "      <td>78.33</td>\n",
       "      <td>Others</td>\n",
       "      <td>Commerce</td>\n",
       "      <td>MBA</td>\n",
       "      <td>77.48</td>\n",
       "      <td>1</td>\n",
       "      <td>86.5</td>\n",
       "      <td>Mkt&amp;Fin</td>\n",
       "      <td>66.28</td>\n",
       "      <td>1</td>\n",
       "      <td>2.0</td>\n",
       "    </tr>\n",
       "    <tr>\n",
       "      <th>2</th>\n",
       "      <td>WILLIAMS</td>\n",
       "      <td>7.334077e+09</td>\n",
       "      <td>M</td>\n",
       "      <td>24.0</td>\n",
       "      <td>65.00</td>\n",
       "      <td>Central</td>\n",
       "      <td>68.00</td>\n",
       "      <td>Central</td>\n",
       "      <td>Commerce</td>\n",
       "      <td>MBA</td>\n",
       "      <td>64.00</td>\n",
       "      <td>0</td>\n",
       "      <td>75</td>\n",
       "      <td>Mkt&amp;Fin</td>\n",
       "      <td>57.8</td>\n",
       "      <td>0</td>\n",
       "      <td>2.0</td>\n",
       "    </tr>\n",
       "    <tr>\n",
       "      <th>3</th>\n",
       "      <td>JONES</td>\n",
       "      <td>8.938723e+09</td>\n",
       "      <td>M</td>\n",
       "      <td>24.0</td>\n",
       "      <td>56.00</td>\n",
       "      <td>Central</td>\n",
       "      <td>52.00</td>\n",
       "      <td>Central</td>\n",
       "      <td>Science</td>\n",
       "      <td>MBA</td>\n",
       "      <td>52.00</td>\n",
       "      <td>1</td>\n",
       "      <td>66</td>\n",
       "      <td>Mkt&amp;HR</td>\n",
       "      <td>59.43</td>\n",
       "      <td>0</td>\n",
       "      <td>5.0</td>\n",
       "    </tr>\n",
       "    <tr>\n",
       "      <th>4</th>\n",
       "      <td>BROWN</td>\n",
       "      <td>7.285735e+09</td>\n",
       "      <td>M</td>\n",
       "      <td>24.0</td>\n",
       "      <td>85.80</td>\n",
       "      <td>Central</td>\n",
       "      <td>73.60</td>\n",
       "      <td>Central</td>\n",
       "      <td>Commerce</td>\n",
       "      <td>MBA</td>\n",
       "      <td>73.30</td>\n",
       "      <td>0</td>\n",
       "      <td>96.8</td>\n",
       "      <td>Mkt&amp;Fin</td>\n",
       "      <td>55.5</td>\n",
       "      <td>0</td>\n",
       "      <td>1.0</td>\n",
       "    </tr>\n",
       "  </tbody>\n",
       "</table>\n",
       "</div>"
      ],
      "text/plain": [
       "       Name  Contact_Number Gender  Age   10th_percentage Tenthth_Board  \\\n",
       "0     SMITH    7.442747e+09      M  24.0            67.00        Others   \n",
       "1   JOHNSON    6.824883e+09      M  26.0            79.33       Central   \n",
       "2  WILLIAMS    7.334077e+09      M  24.0            65.00       Central   \n",
       "3     JONES    8.938723e+09      M  24.0            56.00       Central   \n",
       "4     BROWN    7.285735e+09      M  24.0            85.80       Central   \n",
       "\n",
       "   12th_percentage 12th_board 12th_field Degree_Field  Degree_Percentage  \\\n",
       "0            91.00     Others   Commerce          MBA              58.00   \n",
       "1            78.33     Others   Commerce          MBA              77.48   \n",
       "2            68.00    Central   Commerce          MBA              64.00   \n",
       "3            52.00    Central    Science          MBA              52.00   \n",
       "4            73.60    Central   Commerce          MBA              73.30   \n",
       "\n",
       "  History_Of_Backlogs English_Test_Percentage Department_Applied_To MBA_Grade  \\\n",
       "0                   1                      55                Mkt&HR      58.8   \n",
       "1                   1                    86.5               Mkt&Fin     66.28   \n",
       "2                   0                      75               Mkt&Fin      57.8   \n",
       "3                   1                      66                Mkt&HR     59.43   \n",
       "4                   0                    96.8               Mkt&Fin      55.5   \n",
       "\n",
       "  Work_Experience  Salary_expectations_per_month  \n",
       "0               0                            3.0  \n",
       "1               1                            2.0  \n",
       "2               0                            2.0  \n",
       "3               0                            5.0  \n",
       "4               0                            1.0  "
      ]
     },
     "execution_count": 3,
     "metadata": {},
     "output_type": "execute_result"
    }
   ],
   "source": [
    "# Display the first few rows of the dataset to understand its structure\n",
    "employee_data.head()"
   ]
  },
  {
   "cell_type": "code",
   "execution_count": 4,
   "id": "99a3d729",
   "metadata": {},
   "outputs": [
    {
     "data": {
      "text/plain": [
       "(3175, 17)"
      ]
     },
     "execution_count": 4,
     "metadata": {},
     "output_type": "execute_result"
    }
   ],
   "source": [
    "employee_data.shape"
   ]
  },
  {
   "cell_type": "markdown",
   "id": "fbf9174c",
   "metadata": {},
   "source": [
    "Data Cleaning Summary\n",
    "\n",
    "**Missing Values:**\n",
    "- Several columns have missing values, notably 'MBA_Grade' with 2075 missing entries. Other columns like 'Name', 'Contact_Number', 'Gender', etc., have 11 missing values each. 'Degree_Field' has 16 missing values.\n",
    "\n",
    "**Incorrect Formats:**\n",
    "\n",
    "- The 'Contact_Number' column is in float64 format, which might not be appropriate for phone numbers.\n",
    "- 'English_Test_Percentage' and 'Work_Experience' are in object format, suggesting they may contain non-numeric values or mixed types.\n",
    "- 'History_Of_Backlogs' and 'MBA_Grade' are also objects, which might need to be converted to numeric types for analysis.\n",
    "\n",
    "\n",
    "**Outliers and Distributions:**\n",
    "- The 'Age' ranges from 19 to 32 years, which seems reasonable.\n",
    "- The '10th_percentage' and '12th_percentage' have a wide range, with minimum values being quite low (8.0 and 0.0 respectively), which could be outliers or data entry errors.\n",
    "- 'Degree_Percentage' ranges from 50 to 91, which is a plausible range.\n",
    "- 'Salary_expectations_per_month' range from 1 to 5 (assuming this is in some unit like thousands or lakhs), which seems a narrow range but could be valid depending on the context.\n",
    "\n",
    "\n",
    "**Next Steps for Data Cleaning**\n",
    "- **Handle Missing Values:** We need to decide whether to fill these missing values, drop them, or keep them based on the analysis requirement.\n",
    "- **Correct Data Formats:** Convert 'Contact_Number' to a string type and check 'English_Test_Percentage', 'Work_Experience', 'History_Of_Backlogs', and 'MBA_Grade' for correct formats.\n",
    "- **Investigate Outliers:** Examine the extreme values in '10th_percentage' and '12th_percentage' to determine if they are valid or errors."
   ]
  },
  {
   "cell_type": "code",
   "execution_count": 5,
   "id": "2ede364d",
   "metadata": {},
   "outputs": [],
   "source": [
    "# Data Cleaning\n",
    "# 1. Check for missing values\n",
    "missing_values = employee_data.isnull().sum()"
   ]
  },
  {
   "cell_type": "code",
   "execution_count": 6,
   "id": "4f29832e",
   "metadata": {},
   "outputs": [],
   "source": [
    "# 2. Check for incorrect formats (particularly in numerical columns)\n",
    "incorrect_formats = employee_data.dtypes"
   ]
  },
  {
   "cell_type": "code",
   "execution_count": 7,
   "id": "077d9949",
   "metadata": {},
   "outputs": [],
   "source": [
    "# 3. Checking for outliers in numerical columns\n",
    "# For this, we will describe the data to understand the distributions\n",
    "numerical_summary = employee_data.describe()"
   ]
  },
  {
   "cell_type": "code",
   "execution_count": 8,
   "id": "6d45caa3",
   "metadata": {},
   "outputs": [
    {
     "data": {
      "text/plain": [
       "Name                               11\n",
       "Contact_Number                     11\n",
       "Gender                             11\n",
       "Age                                11\n",
       "10th_percentage                    11\n",
       "Tenthth_Board                      11\n",
       "12th_percentage                    11\n",
       "12th_board                         11\n",
       "12th_field                         11\n",
       "Degree_Field                       16\n",
       "Degree_Percentage                  11\n",
       "History_Of_Backlogs                11\n",
       "English_Test_Percentage            11\n",
       "Department_Applied_To              11\n",
       "MBA_Grade                        2075\n",
       "Work_Experience                    11\n",
       "Salary_expectations_per_month      11\n",
       "dtype: int64"
      ]
     },
     "execution_count": 8,
     "metadata": {},
     "output_type": "execute_result"
    }
   ],
   "source": [
    "missing_values"
   ]
  },
  {
   "cell_type": "code",
   "execution_count": 9,
   "id": "f545d983",
   "metadata": {},
   "outputs": [
    {
     "data": {
      "text/plain": [
       "Name                              object\n",
       "Contact_Number                   float64\n",
       "Gender                            object\n",
       "Age                              float64\n",
       "10th_percentage                  float64\n",
       "Tenthth_Board                     object\n",
       "12th_percentage                  float64\n",
       "12th_board                        object\n",
       "12th_field                        object\n",
       "Degree_Field                      object\n",
       "Degree_Percentage                float64\n",
       "History_Of_Backlogs               object\n",
       "English_Test_Percentage           object\n",
       "Department_Applied_To             object\n",
       "MBA_Grade                         object\n",
       "Work_Experience                   object\n",
       "Salary_expectations_per_month    float64\n",
       "dtype: object"
      ]
     },
     "execution_count": 9,
     "metadata": {},
     "output_type": "execute_result"
    }
   ],
   "source": [
    "incorrect_formats"
   ]
  },
  {
   "cell_type": "code",
   "execution_count": 10,
   "id": "e5a7b3bf",
   "metadata": {},
   "outputs": [
    {
     "data": {
      "text/html": [
       "<div>\n",
       "<style scoped>\n",
       "    .dataframe tbody tr th:only-of-type {\n",
       "        vertical-align: middle;\n",
       "    }\n",
       "\n",
       "    .dataframe tbody tr th {\n",
       "        vertical-align: top;\n",
       "    }\n",
       "\n",
       "    .dataframe thead th {\n",
       "        text-align: right;\n",
       "    }\n",
       "</style>\n",
       "<table border=\"1\" class=\"dataframe\">\n",
       "  <thead>\n",
       "    <tr style=\"text-align: right;\">\n",
       "      <th></th>\n",
       "      <th>Contact_Number</th>\n",
       "      <th>Age</th>\n",
       "      <th>10th_percentage</th>\n",
       "      <th>12th_percentage</th>\n",
       "      <th>Degree_Percentage</th>\n",
       "      <th>Salary_expectations_per_month</th>\n",
       "    </tr>\n",
       "  </thead>\n",
       "  <tbody>\n",
       "    <tr>\n",
       "      <th>count</th>\n",
       "      <td>3.164000e+03</td>\n",
       "      <td>3164.000000</td>\n",
       "      <td>3164.000000</td>\n",
       "      <td>3164.000000</td>\n",
       "      <td>3164.000000</td>\n",
       "      <td>3164.000000</td>\n",
       "    </tr>\n",
       "    <tr>\n",
       "      <th>mean</th>\n",
       "      <td>7.952742e+09</td>\n",
       "      <td>23.109355</td>\n",
       "      <td>67.303486</td>\n",
       "      <td>51.532121</td>\n",
       "      <td>70.439504</td>\n",
       "      <td>2.974083</td>\n",
       "    </tr>\n",
       "    <tr>\n",
       "      <th>std</th>\n",
       "      <td>9.375490e+08</td>\n",
       "      <td>1.909605</td>\n",
       "      <td>14.716568</td>\n",
       "      <td>28.203971</td>\n",
       "      <td>9.607881</td>\n",
       "      <td>1.405454</td>\n",
       "    </tr>\n",
       "    <tr>\n",
       "      <th>min</th>\n",
       "      <td>6.355601e+09</td>\n",
       "      <td>19.000000</td>\n",
       "      <td>8.000000</td>\n",
       "      <td>0.000000</td>\n",
       "      <td>50.000000</td>\n",
       "      <td>1.000000</td>\n",
       "    </tr>\n",
       "    <tr>\n",
       "      <th>25%</th>\n",
       "      <td>7.146443e+09</td>\n",
       "      <td>22.000000</td>\n",
       "      <td>58.000000</td>\n",
       "      <td>27.000000</td>\n",
       "      <td>60.000000</td>\n",
       "      <td>2.000000</td>\n",
       "    </tr>\n",
       "    <tr>\n",
       "      <th>50%</th>\n",
       "      <td>7.922238e+09</td>\n",
       "      <td>23.000000</td>\n",
       "      <td>67.000000</td>\n",
       "      <td>52.500000</td>\n",
       "      <td>70.000000</td>\n",
       "      <td>3.000000</td>\n",
       "    </tr>\n",
       "    <tr>\n",
       "      <th>75%</th>\n",
       "      <td>8.778551e+09</td>\n",
       "      <td>24.000000</td>\n",
       "      <td>78.000000</td>\n",
       "      <td>75.250000</td>\n",
       "      <td>80.000000</td>\n",
       "      <td>4.000000</td>\n",
       "    </tr>\n",
       "    <tr>\n",
       "      <th>max</th>\n",
       "      <td>9.593856e+09</td>\n",
       "      <td>32.000000</td>\n",
       "      <td>100.000000</td>\n",
       "      <td>99.000000</td>\n",
       "      <td>91.000000</td>\n",
       "      <td>5.000000</td>\n",
       "    </tr>\n",
       "  </tbody>\n",
       "</table>\n",
       "</div>"
      ],
      "text/plain": [
       "       Contact_Number         Age   10th_percentage  12th_percentage  \\\n",
       "count    3.164000e+03  3164.000000      3164.000000      3164.000000   \n",
       "mean     7.952742e+09    23.109355        67.303486        51.532121   \n",
       "std      9.375490e+08     1.909605        14.716568        28.203971   \n",
       "min      6.355601e+09    19.000000         8.000000         0.000000   \n",
       "25%      7.146443e+09    22.000000        58.000000        27.000000   \n",
       "50%      7.922238e+09    23.000000        67.000000        52.500000   \n",
       "75%      8.778551e+09    24.000000        78.000000        75.250000   \n",
       "max      9.593856e+09    32.000000       100.000000        99.000000   \n",
       "\n",
       "       Degree_Percentage  Salary_expectations_per_month  \n",
       "count        3164.000000                    3164.000000  \n",
       "mean           70.439504                       2.974083  \n",
       "std             9.607881                       1.405454  \n",
       "min            50.000000                       1.000000  \n",
       "25%            60.000000                       2.000000  \n",
       "50%            70.000000                       3.000000  \n",
       "75%            80.000000                       4.000000  \n",
       "max            91.000000                       5.000000  "
      ]
     },
     "execution_count": 10,
     "metadata": {},
     "output_type": "execute_result"
    }
   ],
   "source": [
    "numerical_summary"
   ]
  },
  {
   "cell_type": "code",
   "execution_count": 11,
   "id": "cc3ec7ae",
   "metadata": {},
   "outputs": [],
   "source": [
    "# Data Cleaning Process"
   ]
  },
  {
   "cell_type": "code",
   "execution_count": 12,
   "id": "bbbc834e",
   "metadata": {},
   "outputs": [],
   "source": [
    "# Convert 'Contact_Number' to string type\n",
    "employee_data['Contact_Number'] = employee_data['Contact_Number'].astype(str)"
   ]
  },
  {
   "cell_type": "code",
   "execution_count": 13,
   "id": "e6697231",
   "metadata": {},
   "outputs": [],
   "source": [
    "# Convert 'English_Test_Percentage', 'Work_Experience', 'History_Of_Backlogs', and 'MBA_Grade' to numeric\n",
    "# Using errors='coerce' to handle any non-numeric values which will be converted to NaN\n",
    "employee_data['English_Test_Percentage'] = pd.to_numeric(employee_data['English_Test_Percentage'], errors='coerce')\n",
    "employee_data['Work_Experience'] = pd.to_numeric(employee_data['Work_Experience'], errors='coerce')\n",
    "employee_data['History_Of_Backlogs'] = pd.to_numeric(employee_data['History_Of_Backlogs'], errors='coerce')\n",
    "employee_data['MBA_Grade'] = pd.to_numeric(employee_data['MBA_Grade'], errors='coerce')"
   ]
  },
  {
   "cell_type": "code",
   "execution_count": 14,
   "id": "ab957106",
   "metadata": {},
   "outputs": [],
   "source": [
    "# Investigating the extreme values in '10th_percentage' and '12th_percentage'\n",
    "extreme_values_10th = employee_data[employee_data['10th_percentage'] < 40]  # assuming below 40 is unusually low\n",
    "extreme_values_12th = employee_data[employee_data['12th_percentage'] < 40]  # assuming below 40 is unusually low"
   ]
  },
  {
   "cell_type": "code",
   "execution_count": 15,
   "id": "e113aa84",
   "metadata": {},
   "outputs": [],
   "source": [
    "# Checking the format conversions and the extreme values\n",
    "format_check = employee_data.dtypes\n",
    "extreme_values_summary = {\n",
    "    'extreme_values_10th_count': extreme_values_10th.shape[0],\n",
    "    'extreme_values_12th_count': extreme_values_12th.shape[0]\n",
    "}"
   ]
  },
  {
   "cell_type": "code",
   "execution_count": 16,
   "id": "2a1c6cd2",
   "metadata": {},
   "outputs": [
    {
     "data": {
      "text/plain": [
       "Name                              object\n",
       "Contact_Number                    object\n",
       "Gender                            object\n",
       "Age                              float64\n",
       "10th_percentage                  float64\n",
       "Tenthth_Board                     object\n",
       "12th_percentage                  float64\n",
       "12th_board                        object\n",
       "12th_field                        object\n",
       "Degree_Field                      object\n",
       "Degree_Percentage                float64\n",
       "History_Of_Backlogs              float64\n",
       "English_Test_Percentage          float64\n",
       "Department_Applied_To             object\n",
       "MBA_Grade                        float64\n",
       "Work_Experience                  float64\n",
       "Salary_expectations_per_month    float64\n",
       "dtype: object"
      ]
     },
     "execution_count": 16,
     "metadata": {},
     "output_type": "execute_result"
    }
   ],
   "source": [
    "format_check"
   ]
  },
  {
   "cell_type": "code",
   "execution_count": 17,
   "id": "609f5a00",
   "metadata": {},
   "outputs": [
    {
     "data": {
      "text/plain": [
       "{'extreme_values_10th_count': 101, 'extreme_values_12th_count': 1175}"
      ]
     },
     "execution_count": 17,
     "metadata": {},
     "output_type": "execute_result"
    }
   ],
   "source": [
    "extreme_values_summary"
   ]
  },
  {
   "cell_type": "code",
   "execution_count": 18,
   "id": "5dbadf24",
   "metadata": {},
   "outputs": [],
   "source": [
    "# Handling Extreme Values and Missing Data\n",
    "\n",
    "# For extreme values, let's check their proportion to the entire dataset\n",
    "extreme_10th_proportion = extreme_values_summary['extreme_values_10th_count'] / len(employee_data)\n",
    "extreme_12th_proportion = extreme_values_summary['extreme_values_12th_count'] / len(employee_data)"
   ]
  },
  {
   "cell_type": "code",
   "execution_count": 19,
   "id": "1dfe3660",
   "metadata": {},
   "outputs": [],
   "source": [
    "# For missing values, we'll decide based on the proportion of missing data in each column\n",
    "missing_values_proportion = employee_data.isnull().mean()"
   ]
  },
  {
   "cell_type": "code",
   "execution_count": 20,
   "id": "23387177",
   "metadata": {},
   "outputs": [],
   "source": [
    "# Handling extreme values: If they are a small proportion, we might drop them or replace them\n",
    "# Handling missing values: If the proportion of missing data is small, we might drop those rows or columns\n",
    "# If the proportion is significant, we might consider imputation\n",
    "\n",
    "extreme_values_decision = {\n",
    "    'extreme_10th_proportion': extreme_10th_proportion,\n",
    "    'extreme_12th_proportion': extreme_12th_proportion\n",
    "}"
   ]
  },
  {
   "cell_type": "code",
   "execution_count": 21,
   "id": "b3d3bfc3",
   "metadata": {},
   "outputs": [
    {
     "data": {
      "text/plain": [
       "{'extreme_10th_proportion': 0.03181102362204724,\n",
       " 'extreme_12th_proportion': 0.3700787401574803}"
      ]
     },
     "execution_count": 21,
     "metadata": {},
     "output_type": "execute_result"
    }
   ],
   "source": [
    "missing_values_decision = missing_values_proportion\n",
    "\n",
    "extreme_values_decision"
   ]
  },
  {
   "cell_type": "code",
   "execution_count": 22,
   "id": "70380cc7",
   "metadata": {},
   "outputs": [
    {
     "data": {
      "text/plain": [
       "Name                             0.003465\n",
       "Contact_Number                   0.000000\n",
       "Gender                           0.003465\n",
       "Age                              0.003465\n",
       "10th_percentage                  0.003465\n",
       "Tenthth_Board                    0.003465\n",
       "12th_percentage                  0.003465\n",
       "12th_board                       0.003465\n",
       "12th_field                       0.003465\n",
       "Degree_Field                     0.005039\n",
       "Degree_Percentage                0.003465\n",
       "History_Of_Backlogs              0.006299\n",
       "English_Test_Percentage          0.004094\n",
       "Department_Applied_To            0.003465\n",
       "MBA_Grade                        0.654488\n",
       "Work_Experience                  0.004094\n",
       "Salary_expectations_per_month    0.003465\n",
       "dtype: float64"
      ]
     },
     "execution_count": 22,
     "metadata": {},
     "output_type": "execute_result"
    }
   ],
   "source": [
    "missing_values_decision"
   ]
  },
  {
   "cell_type": "markdown",
   "id": "8c227edb",
   "metadata": {},
   "source": [
    "**Analysis of Extreme Values and Missing Data**\n",
    "\n",
    "**Extreme Values:**\n",
    "- '10th_percentage': Approximately 3.18% of the entries have unusually low values.\n",
    "- '12th_percentage': A significant 37.01% of the entries have unusually low values.\n",
    "\n",
    "**Missing Data:**\n",
    "- Most columns have a very low proportion of missing values (less than 1%).\n",
    "- However, the 'MBA_Grade' column stands out with a notably high proportion of missing data (65.45%).\n",
    "\n",
    "\n",
    "**Decisions and Actions**\n",
    "\n",
    "**Extreme Values:**\n",
    "- For '10th_percentage', since it's a relatively small proportion, we might consider removing these entries or replacing them with median values.\n",
    "- For '12th_percentage', given the high proportion, removing these entries might not be feasible without significant data loss. We could consider imputation or further investigation to understand why these values are low (e.g., data entry errors or valid data).\n",
    "\n",
    "**Missing Data:**\n",
    "- For columns with less than 1% missing values, we can consider dropping these rows.\n",
    "- For the 'MBA_Grade' column, given the high proportion of missing data, we need a more nuanced approach. Options include imputation, using a placeholder value, or considering the impact of excluding this column from certain analyses.\n"
   ]
  },
  {
   "cell_type": "code",
   "execution_count": 23,
   "id": "184f2770",
   "metadata": {},
   "outputs": [],
   "source": [
    "# Implementing decisions for handling data"
   ]
  },
  {
   "cell_type": "code",
   "execution_count": 24,
   "id": "67f04d10",
   "metadata": {},
   "outputs": [],
   "source": [
    "# Dropping rows with missing values where the proportion is less than 1%\n",
    "columns_to_drop_na = missing_values_decision[missing_values_decision < 0.01].index\n",
    "cleaned_data = employee_data.dropna(subset=columns_to_drop_na)"
   ]
  },
  {
   "cell_type": "code",
   "execution_count": 25,
   "id": "a7fb9212",
   "metadata": {},
   "outputs": [],
   "source": [
    "# Handling extreme values in '10th_percentage' by replacing them with the median\n",
    "median_10th = cleaned_data['10th_percentage'].median()\n",
    "cleaned_data.loc[cleaned_data['10th_percentage'] < 40, '10th_percentage'] = median_10th"
   ]
  },
  {
   "cell_type": "code",
   "execution_count": 26,
   "id": "a697b4e3",
   "metadata": {},
   "outputs": [],
   "source": [
    "# For '12th_percentage', considering the high proportion of low values, we'll explore further before deciding\n",
    "# Checking the distribution and potential reasons for low '12th_percentage' values\n",
    "low_12th_values = cleaned_data[cleaned_data['12th_percentage'] < 40]"
   ]
  },
  {
   "cell_type": "code",
   "execution_count": 27,
   "id": "5e77b596",
   "metadata": {},
   "outputs": [],
   "source": [
    "# Deciding approach for 'MBA_Grade' missing values\n",
    "# Given the high proportion of missing data, we'll check the distribution of non-missing values before deciding\n",
    "mba_grade_distribution = cleaned_data['MBA_Grade'].dropna().describe()"
   ]
  },
  {
   "cell_type": "code",
   "execution_count": 28,
   "id": "960f569a",
   "metadata": {},
   "outputs": [
    {
     "data": {
      "text/plain": [
       "(3146, 17)"
      ]
     },
     "execution_count": 28,
     "metadata": {},
     "output_type": "execute_result"
    }
   ],
   "source": [
    "cleaned_data.shape"
   ]
  },
  {
   "cell_type": "code",
   "execution_count": 29,
   "id": "65fc92ef",
   "metadata": {},
   "outputs": [
    {
     "data": {
      "text/html": [
       "<div>\n",
       "<style scoped>\n",
       "    .dataframe tbody tr th:only-of-type {\n",
       "        vertical-align: middle;\n",
       "    }\n",
       "\n",
       "    .dataframe tbody tr th {\n",
       "        vertical-align: top;\n",
       "    }\n",
       "\n",
       "    .dataframe thead th {\n",
       "        text-align: right;\n",
       "    }\n",
       "</style>\n",
       "<table border=\"1\" class=\"dataframe\">\n",
       "  <thead>\n",
       "    <tr style=\"text-align: right;\">\n",
       "      <th></th>\n",
       "      <th>Name</th>\n",
       "      <th>Contact_Number</th>\n",
       "      <th>Gender</th>\n",
       "      <th>Age</th>\n",
       "      <th>10th_percentage</th>\n",
       "      <th>Tenthth_Board</th>\n",
       "      <th>12th_percentage</th>\n",
       "      <th>12th_board</th>\n",
       "      <th>12th_field</th>\n",
       "      <th>Degree_Field</th>\n",
       "      <th>Degree_Percentage</th>\n",
       "      <th>History_Of_Backlogs</th>\n",
       "      <th>English_Test_Percentage</th>\n",
       "      <th>Department_Applied_To</th>\n",
       "      <th>MBA_Grade</th>\n",
       "      <th>Work_Experience</th>\n",
       "      <th>Salary_expectations_per_month</th>\n",
       "    </tr>\n",
       "  </thead>\n",
       "  <tbody>\n",
       "    <tr>\n",
       "      <th>42</th>\n",
       "      <td>ROBERTS</td>\n",
       "      <td>7332185094.0</td>\n",
       "      <td>M</td>\n",
       "      <td>21.0</td>\n",
       "      <td>49.0</td>\n",
       "      <td>Others</td>\n",
       "      <td>39.0</td>\n",
       "      <td>Central</td>\n",
       "      <td>Science</td>\n",
       "      <td>BTECH</td>\n",
       "      <td>65.0</td>\n",
       "      <td>1.0</td>\n",
       "      <td>63.0</td>\n",
       "      <td>Teaching</td>\n",
       "      <td>51.21</td>\n",
       "      <td>1.0</td>\n",
       "      <td>3.0</td>\n",
       "    </tr>\n",
       "    <tr>\n",
       "      <th>49</th>\n",
       "      <td>COLLINS</td>\n",
       "      <td>9560760796.0</td>\n",
       "      <td>F</td>\n",
       "      <td>26.0</td>\n",
       "      <td>50.0</td>\n",
       "      <td>Others</td>\n",
       "      <td>37.0</td>\n",
       "      <td>Others</td>\n",
       "      <td>Arts</td>\n",
       "      <td>MBA</td>\n",
       "      <td>52.0</td>\n",
       "      <td>0.0</td>\n",
       "      <td>65.0</td>\n",
       "      <td>Mkt&amp;HR</td>\n",
       "      <td>56.11</td>\n",
       "      <td>1.0</td>\n",
       "      <td>2.0</td>\n",
       "    </tr>\n",
       "    <tr>\n",
       "      <th>214</th>\n",
       "      <td>MCCOY</td>\n",
       "      <td>6599074237.0</td>\n",
       "      <td>F</td>\n",
       "      <td>25.0</td>\n",
       "      <td>61.0</td>\n",
       "      <td>Central</td>\n",
       "      <td>38.0</td>\n",
       "      <td>Central</td>\n",
       "      <td>Science</td>\n",
       "      <td>MTECH</td>\n",
       "      <td>60.0</td>\n",
       "      <td>0.0</td>\n",
       "      <td>90.0</td>\n",
       "      <td>Technical</td>\n",
       "      <td>NaN</td>\n",
       "      <td>1.0</td>\n",
       "      <td>4.0</td>\n",
       "    </tr>\n",
       "    <tr>\n",
       "      <th>220</th>\n",
       "      <td>GARZA</td>\n",
       "      <td>7300877168.0</td>\n",
       "      <td>M</td>\n",
       "      <td>21.0</td>\n",
       "      <td>62.0</td>\n",
       "      <td>Central</td>\n",
       "      <td>0.0</td>\n",
       "      <td>Central</td>\n",
       "      <td>Science</td>\n",
       "      <td>BTECH</td>\n",
       "      <td>60.0</td>\n",
       "      <td>0.0</td>\n",
       "      <td>64.0</td>\n",
       "      <td>Teaching</td>\n",
       "      <td>59.00</td>\n",
       "      <td>2.0</td>\n",
       "      <td>5.0</td>\n",
       "    </tr>\n",
       "    <tr>\n",
       "      <th>221</th>\n",
       "      <td>HARVEY</td>\n",
       "      <td>6577202063.0</td>\n",
       "      <td>F</td>\n",
       "      <td>21.0</td>\n",
       "      <td>47.0</td>\n",
       "      <td>Central</td>\n",
       "      <td>7.0</td>\n",
       "      <td>Central</td>\n",
       "      <td>Science</td>\n",
       "      <td>BTECH</td>\n",
       "      <td>60.0</td>\n",
       "      <td>0.0</td>\n",
       "      <td>38.0</td>\n",
       "      <td>Teaching</td>\n",
       "      <td>83.00</td>\n",
       "      <td>1.0</td>\n",
       "      <td>1.0</td>\n",
       "    </tr>\n",
       "  </tbody>\n",
       "</table>\n",
       "</div>"
      ],
      "text/plain": [
       "        Name Contact_Number Gender  Age   10th_percentage Tenthth_Board  \\\n",
       "42   ROBERTS   7332185094.0      M  21.0             49.0        Others   \n",
       "49   COLLINS   9560760796.0      F  26.0             50.0        Others   \n",
       "214    MCCOY   6599074237.0      F  25.0             61.0       Central   \n",
       "220    GARZA   7300877168.0      M  21.0             62.0       Central   \n",
       "221   HARVEY   6577202063.0      F  21.0             47.0       Central   \n",
       "\n",
       "     12th_percentage 12th_board 12th_field Degree_Field  Degree_Percentage  \\\n",
       "42              39.0    Central    Science        BTECH               65.0   \n",
       "49              37.0     Others       Arts          MBA               52.0   \n",
       "214             38.0    Central    Science        MTECH               60.0   \n",
       "220              0.0    Central    Science        BTECH               60.0   \n",
       "221              7.0    Central    Science        BTECH               60.0   \n",
       "\n",
       "     History_Of_Backlogs  English_Test_Percentage Department_Applied_To  \\\n",
       "42                   1.0                     63.0              Teaching   \n",
       "49                   0.0                     65.0                Mkt&HR   \n",
       "214                  0.0                     90.0             Technical   \n",
       "220                  0.0                     64.0              Teaching   \n",
       "221                  0.0                     38.0              Teaching   \n",
       "\n",
       "     MBA_Grade  Work_Experience  Salary_expectations_per_month  \n",
       "42       51.21              1.0                            3.0  \n",
       "49       56.11              1.0                            2.0  \n",
       "214        NaN              1.0                            4.0  \n",
       "220      59.00              2.0                            5.0  \n",
       "221      83.00              1.0                            1.0  "
      ]
     },
     "execution_count": 29,
     "metadata": {},
     "output_type": "execute_result"
    }
   ],
   "source": [
    "low_12th_values.head()"
   ]
  },
  {
   "cell_type": "code",
   "execution_count": 30,
   "id": "56cb1a55",
   "metadata": {},
   "outputs": [
    {
     "data": {
      "text/plain": [
       "count    1087.000000\n",
       "mean       65.985934\n",
       "std        17.527288\n",
       "min        20.000000\n",
       "25%        54.000000\n",
       "50%        64.860000\n",
       "75%        79.000000\n",
       "max        99.000000\n",
       "Name: MBA_Grade, dtype: float64"
      ]
     },
     "execution_count": 30,
     "metadata": {},
     "output_type": "execute_result"
    }
   ],
   "source": [
    "mba_grade_distribution"
   ]
  },
  {
   "cell_type": "markdown",
   "id": "42d0beb0",
   "metadata": {},
   "source": [
    "**Investigation of '12th_percentage' Low Values:**\n",
    "- The low '12th_percentage' values (below 40) show a wide range in other attributes like 'Age', '10th_percentage', and 'Degree_Percentage'. This diversity suggests that these low scores might be valid data points rather than errors. Therefore, it may be appropriate to retain these values for a more comprehensive analysis.\n",
    "\n",
    "\n",
    "**Handling of 'MBA_Grade' Missing Values:**\n",
    "- Missing values in the 'MBA_Grade' column have been successfully imputed with the median value (64.86). This approach helps maintain the distribution of the data without introducing significant bias.\n",
    "- The 'MBA_Grade' column now has no missing values."
   ]
  },
  {
   "cell_type": "markdown",
   "id": "6fd54ecf",
   "metadata": {},
   "source": [
    "## EDA"
   ]
  },
  {
   "cell_type": "markdown",
   "id": "eda0c8f4",
   "metadata": {},
   "source": [
    "### Exploratory Data Analysis (EDA)\n",
    "\n",
    "Now that the dataset is cleaned, we can move on to EDA. This will involve:\n",
    "1. Analyzing distributions of various features.\n",
    "2. Examining relationships between different variables.\n",
    "3. Gathering insights relevant to employee screening.\n",
    "\n",
    "We'll start by creating visualizations for key features like academic percentages, work experience, MBA grades, and salary expectations. Let's begin with this analysis."
   ]
  },
  {
   "cell_type": "code",
   "execution_count": 31,
   "id": "11695c5d",
   "metadata": {},
   "outputs": [],
   "source": [
    "import matplotlib.pyplot as plt\n",
    "import seaborn as sns"
   ]
  },
  {
   "cell_type": "code",
   "execution_count": 32,
   "id": "8257809d",
   "metadata": {},
   "outputs": [],
   "source": [
    "# To avoid SettingWithCopyWarning, create an independent copy of the DataFrame\n",
    "cleaned_data = cleaned_data.copy()\n",
    "\n",
    "# Imputing missing values in 'MBA_Grade' with median\n",
    "mba_grade_median = cleaned_data['MBA_Grade'].median()\n",
    "cleaned_data['MBA_Grade'].fillna(mba_grade_median, inplace=True)"
   ]
  },
  {
   "cell_type": "code",
   "execution_count": 33,
   "id": "870671f3",
   "metadata": {},
   "outputs": [
    {
     "data": {
      "image/png": "[encoded data removed]",
      "text/plain": [
       "<Figure size 1500x1500 with 6 Axes>"
      ]
     },
     "metadata": {},
     "output_type": "display_data"
    }
   ],
   "source": [
    "# EDA: Creating visualizations\n",
    "# Setting the aesthetics for the plots\n",
    "sns.set(style=\"whitegrid\")\n",
    "\n",
    "# Plotting distributions of key features\n",
    "fig, axes = plt.subplots(3, 2, figsize=(15, 15))\n",
    "fig.suptitle('Distribution of Key Features in the Dataset')\n",
    "\n",
    "# Academic Percentages\n",
    "sns.histplot(cleaned_data['10th_percentage'], kde=True, ax=axes[0, 0])\n",
    "axes[0, 0].set_title('10th Grade Percentage')\n",
    "\n",
    "sns.histplot(cleaned_data['12th_percentage'], kde=True, ax=axes[0, 1])\n",
    "axes[0, 1].set_title('12th Grade Percentage')\n",
    "\n",
    "sns.histplot(cleaned_data['Degree_Percentage'], kde=True, ax=axes[1, 0])\n",
    "axes[1, 0].set_title('Degree Percentage')\n",
    "\n",
    "# MBA Grades\n",
    "sns.histplot(cleaned_data['MBA_Grade'], kde=True, ax=axes[1, 1])\n",
    "axes[1, 1].set_title('MBA Grade')\n",
    "\n",
    "# Work Experience and Salary Expectations\n",
    "sns.histplot(cleaned_data['Work_Experience'], kde=True, ax=axes[2, 0])\n",
    "axes[2, 0].set_title('Work Experience (Years)')\n",
    "\n",
    "sns.histplot(cleaned_data['Salary_expectations_per_month'], kde=True, ax=axes[2, 1])\n",
    "axes[2, 1].set_title('Salary Expectations per Month')\n",
    "\n",
    "plt.tight_layout(rect=[0, 0.03, 1, 0.95])\n",
    "plt.show()"
   ]
  },
  {
   "cell_type": "markdown",
   "id": "fab61d65",
   "metadata": {},
   "source": [
    "### Exploratory Data Analysis (EDA) Visualizations\n",
    "\n",
    "The histograms provide insights into the distribution of key features in the dataset:\n",
    "\n",
    "1. **10th and 12th Grade Percentages**:\n",
    "   - Both show a wide range of values with a somewhat normal distribution. \n",
    "   - There's a notable concentration around the 60-80% range, which is typical for academic scores.\n",
    "\n",
    "2. **Degree Percentage**:\n",
    "   - This also follows a roughly normal distribution, similar to 10th and 12th grade percentages.\n",
    "   - The concentration is more towards the higher end, indicating a trend of higher scores in degree courses.\n",
    "\n",
    "3. **MBA Grade**:\n",
    "   - The distribution appears slightly skewed towards the higher end.\n",
    "   - The median imputation for missing values is visible as a peak around the median value.\n",
    "\n",
    "4. **Work Experience**:\n",
    "   - The majority of candidates have low to moderate work experience, with few having extensive experience.\n",
    "   - This suggests the dataset primarily includes candidates in the early or mid stages of their career.\n",
    "\n",
    "5. **Salary Expectations**:\n",
    "   - The distribution is relatively even across different salary expectations.\n",
    "   - This could be influenced by various factors like the role applied for, industry standards, or candidate experience."
   ]
  },
  {
   "cell_type": "markdown",
   "id": "80f80ef9",
   "metadata": {},
   "source": [
    "## Statistical Analysis"
   ]
  },
  {
   "cell_type": "markdown",
   "id": "c965fa02",
   "metadata": {},
   "source": [
    "### Statistical Analysis: Correlations and Insights\n",
    "\n",
    "1. **Correlation Matrix Visualization**:\n",
    "   - The heatmap shows the correlation coefficients between different variables in the dataset.\n",
    "\n",
    "2. **Correlations with Salary Expectations**:\n",
    "   - The most notable finding is that most variables have very low correlation coefficients with 'Salary_expectations_per_month'.\n",
    "   - The correlations range from slightly negative (e.g., 'English_Test_Percentage', 'Work_Experience') to almost negligible (e.g., 'MBA_Grade', 'History_Of_Backlogs').\n",
    "   - This indicates that salary expectations are not strongly influenced by these academic and professional variables in this dataset."
   ]
  },
  {
   "cell_type": "code",
   "execution_count": 34,
   "id": "b6dedba8",
   "metadata": {},
   "outputs": [],
   "source": [
    "import numpy as np"
   ]
  },
  {
   "cell_type": "code",
   "execution_count": 35,
   "id": "3ef73f4e",
   "metadata": {},
   "outputs": [],
   "source": [
    "# Select only numeric columns for correlation calculation\n",
    "numeric_data = cleaned_data.select_dtypes(include=[np.number])"
   ]
  },
  {
   "cell_type": "code",
   "execution_count": 36,
   "id": "51ccae9e",
   "metadata": {},
   "outputs": [],
   "source": [
    "# Correlation matrix\n",
    "correlation_matrix = numeric_data.corr()"
   ]
  },
  {
   "cell_type": "code",
   "execution_count": 37,
   "id": "82cccc43",
   "metadata": {},
   "outputs": [
    {
     "data": {
      "image/png": "[encoded data removed]",
      "text/plain": [
       "<Figure size 1200x800 with 2 Axes>"
      ]
     },
     "metadata": {},
     "output_type": "display_data"
    }
   ],
   "source": [
    "# Visualizing the correlation matrix using a heatmap\n",
    "plt.figure(figsize=(12, 8))\n",
    "sns.heatmap(correlation_matrix, annot=True, cmap='coolwarm', fmt='.2f', linewidths=.5)\n",
    "plt.title('Correlation Matrix of Employee Data')\n",
    "plt.show()"
   ]
  },
  {
   "cell_type": "code",
   "execution_count": 38,
   "id": "349d6e3d",
   "metadata": {},
   "outputs": [
    {
     "data": {
      "text/plain": [
       "Salary_expectations_per_month    1.000000\n",
       "History_Of_Backlogs              0.002981\n",
       "MBA_Grade                       -0.001611\n",
       "12th_percentage                 -0.004129\n",
       "Degree_Percentage               -0.005491\n",
       "10th_percentage                 -0.009813\n",
       "Age                             -0.011655\n",
       "Work_Experience                 -0.011770\n",
       "English_Test_Percentage         -0.042077\n",
       "Name: Salary_expectations_per_month, dtype: float64"
      ]
     },
     "execution_count": 38,
     "metadata": {},
     "output_type": "execute_result"
    }
   ],
   "source": [
    "# Focusing on correlations with Salary Expectations\n",
    "salary_correlations = correlation_matrix['Salary_expectations_per_month'].sort_values(ascending=False)\n",
    "salary_correlations"
   ]
  },
  {
   "cell_type": "markdown",
   "id": "68ca3e46",
   "metadata": {},
   "source": [
    "### Key Insights from the Analysis\n",
    "\n",
    "- **Academic Performance**: There is no strong correlation between academic scores and salary expectations. This might suggest that candidates' salary expectations are influenced more by market standards or personal factors rather than academic achievements.\n",
    "\n",
    "- **Work Experience**: Interestingly, work experience also shows a very weak correlation with salary expectations. This could indicate a diverse range of roles and industries where years of experience do not directly dictate salary expectations.\n",
    "\n",
    "- **English Proficiency**: The negative correlation, although weak, between 'English_Test_Percentage' and salary expectations might be worth exploring further. It could suggest that roles requiring higher English proficiency might not necessarily be the ones with the highest salary expectations, or vice versa.\n",
    "\n",
    "### Conclusion and Recommendations\n",
    "\n",
    "- **Holistic Screening**: When screening employees, a holistic approach that considers a variety of factors beyond academics and work experience is advisable.\n",
    "\n",
    "- **Further Analysis**: For more targeted insights, it might be beneficial to analyze the data segmented by specific departments or roles.\n",
    "\n",
    "- **Custom Analysis**: Each organization can use this analysis as a base and adjust the focus based on their specific requirements and the roles they are hiring for.\n",
    "\n",
    "This concludes the detailed data analysis for the \"Employee Screening System\". For any further specific analysis or additional insights, feel free to ask!"
   ]
  },
  {
   "cell_type": "markdown",
   "id": "8f731bbc",
   "metadata": {},
   "source": [
    "## Feature Engineering"
   ]
  },
  {
   "cell_type": "markdown",
   "id": "8f088a18",
   "metadata": {},
   "source": [
    "The dataset contains various attributes related to employee academic and professional backgrounds. For feature engineering, we can consider the following steps:\n",
    "\n",
    "1. **Numeric Conversion**: Convert data types of columns like 'Contact_Number', 'English_Test_Percentage', 'Work_Experience', 'History_Of_Backlogs', and 'MBA_Grade' to appropriate numeric types if they are not already.\n",
    "\n",
    "2. **Handling Missing Values**: Decide on a strategy for handling missing data, such as imputation or removal, depending on the proportion and importance of missing values.\n",
    "\n",
    "3. **Encoding Categorical Data**: Convert categorical variables like 'Gender', 'Tenthth_Board', '12th_board', '12th_field', 'Degree_Field', and 'Department_Applied_To' into a format that can be used by machine learning models.\n",
    "\n",
    "4. **Feature Creation**: Create new features that might be relevant for the analysis, such as aggregating academic scores or creating a combined experience score.\n",
    "\n",
    "5. **Normalization/Standardization**: Normalize or standardize the features to bring them onto the same scale, especially important for certain algorithms.\n",
    "\n",
    "Let's begin by converting the data types, handling missing values, and encoding the categorical variables. We will then look into creating additional features and normalizing the data."
   ]
  },
  {
   "cell_type": "code",
   "execution_count": 39,
   "id": "21351d20",
   "metadata": {},
   "outputs": [],
   "source": [
    "from sklearn.preprocessing import LabelEncoder"
   ]
  },
  {
   "cell_type": "code",
   "execution_count": 40,
   "id": "c676efea",
   "metadata": {},
   "outputs": [],
   "source": [
    "# Convert numeric columns to appropriate types\n",
    "numeric_columns = ['Contact_Number', 'English_Test_Percentage', 'Work_Experience', 'History_Of_Backlogs', 'MBA_Grade']\n",
    "employee_data[numeric_columns] = employee_data[numeric_columns].apply(pd.to_numeric, errors='coerce')"
   ]
  },
  {
   "cell_type": "code",
   "execution_count": 41,
   "id": "e0cc5d49",
   "metadata": {},
   "outputs": [],
   "source": [
    "# Handling Missing Values: Imputing with median for numerical columns and mode for categorical columns\n",
    "for column in employee_data.columns:\n",
    "    if employee_data[column].dtype == 'object':\n",
    "        employee_data[column].fillna(employee_data[column].mode()[0], inplace=True)\n",
    "    else:\n",
    "        employee_data[column].fillna(employee_data[column].median(), inplace=True)"
   ]
  },
  {
   "cell_type": "code",
   "execution_count": 42,
   "id": "4543aec7",
   "metadata": {},
   "outputs": [],
   "source": [
    "# Encoding Categorical Data\n",
    "label_encoders = {}\n",
    "categorical_columns = ['Gender', 'Tenthth_Board', '12th_board', '12th_field', 'Degree_Field', 'Department_Applied_To']"
   ]
  },
  {
   "cell_type": "code",
   "execution_count": 43,
   "id": "45f49941",
   "metadata": {},
   "outputs": [],
   "source": [
    "for column in categorical_columns:\n",
    "    le = LabelEncoder()\n",
    "    employee_data[column] = le.fit_transform(employee_data[column])\n",
    "    label_encoders[column] = le"
   ]
  },
  {
   "cell_type": "code",
   "execution_count": 44,
   "id": "4e5d9f0a",
   "metadata": {},
   "outputs": [],
   "source": [
    "# Feature Creation: Creating a new feature as the average of 10th, 12th, and Degree percentages\n",
    "employee_data['Average_Academic_Percentage'] = employee_data[['10th_percentage', '12th_percentage', 'Degree_Percentage']].mean(axis=1)"
   ]
  },
  {
   "cell_type": "code",
   "execution_count": 45,
   "id": "83638d27",
   "metadata": {},
   "outputs": [],
   "source": [
    "# Normalizing the data (using Min-Max scaling as an example)\n",
    "from sklearn.preprocessing import MinMaxScaler"
   ]
  },
  {
   "cell_type": "code",
   "execution_count": 46,
   "id": "83b463d4",
   "metadata": {},
   "outputs": [],
   "source": [
    "scaler = MinMaxScaler()\n",
    "employee_data_scaled = pd.DataFrame(scaler.fit_transform(employee_data[numeric_columns + ['Average_Academic_Percentage']]),\n",
    "                                    columns=numeric_columns + ['Average_Academic_Percentage'])"
   ]
  },
  {
   "cell_type": "code",
   "execution_count": 47,
   "id": "7840811f",
   "metadata": {},
   "outputs": [],
   "source": [
    "# Adding the scaled numeric features back to the dataframe\n",
    "employee_data.drop(columns=numeric_columns + ['Average_Academic_Percentage'], inplace=True)\n",
    "employee_data = pd.concat([employee_data, employee_data_scaled], axis=1)"
   ]
  },
  {
   "cell_type": "code",
   "execution_count": 48,
   "id": "0178c55e",
   "metadata": {},
   "outputs": [
    {
     "data": {
      "text/html": [
       "<div>\n",
       "<style scoped>\n",
       "    .dataframe tbody tr th:only-of-type {\n",
       "        vertical-align: middle;\n",
       "    }\n",
       "\n",
       "    .dataframe tbody tr th {\n",
       "        vertical-align: top;\n",
       "    }\n",
       "\n",
       "    .dataframe thead th {\n",
       "        text-align: right;\n",
       "    }\n",
       "</style>\n",
       "<table border=\"1\" class=\"dataframe\">\n",
       "  <thead>\n",
       "    <tr style=\"text-align: right;\">\n",
       "      <th></th>\n",
       "      <th>Name</th>\n",
       "      <th>Gender</th>\n",
       "      <th>Age</th>\n",
       "      <th>10th_percentage</th>\n",
       "      <th>Tenthth_Board</th>\n",
       "      <th>12th_percentage</th>\n",
       "      <th>12th_board</th>\n",
       "      <th>12th_field</th>\n",
       "      <th>Degree_Field</th>\n",
       "      <th>Degree_Percentage</th>\n",
       "      <th>Department_Applied_To</th>\n",
       "      <th>Salary_expectations_per_month</th>\n",
       "      <th>Contact_Number</th>\n",
       "      <th>English_Test_Percentage</th>\n",
       "      <th>Work_Experience</th>\n",
       "      <th>History_Of_Backlogs</th>\n",
       "      <th>MBA_Grade</th>\n",
       "      <th>Average_Academic_Percentage</th>\n",
       "    </tr>\n",
       "  </thead>\n",
       "  <tbody>\n",
       "    <tr>\n",
       "      <th>0</th>\n",
       "      <td>SMITH</td>\n",
       "      <td>2</td>\n",
       "      <td>24.0</td>\n",
       "      <td>67.00</td>\n",
       "      <td>3</td>\n",
       "      <td>91.00</td>\n",
       "      <td>3</td>\n",
       "      <td>1</td>\n",
       "      <td>6</td>\n",
       "      <td>58.00</td>\n",
       "      <td>3</td>\n",
       "      <td>3.0</td>\n",
       "      <td>0.335720</td>\n",
       "      <td>0.550</td>\n",
       "      <td>0.00</td>\n",
       "      <td>1.0</td>\n",
       "      <td>0.558242</td>\n",
       "      <td>0.668367</td>\n",
       "    </tr>\n",
       "    <tr>\n",
       "      <th>1</th>\n",
       "      <td>JOHNSON</td>\n",
       "      <td>2</td>\n",
       "      <td>26.0</td>\n",
       "      <td>79.33</td>\n",
       "      <td>2</td>\n",
       "      <td>78.33</td>\n",
       "      <td>3</td>\n",
       "      <td>1</td>\n",
       "      <td>6</td>\n",
       "      <td>77.48</td>\n",
       "      <td>2</td>\n",
       "      <td>2.0</td>\n",
       "      <td>0.144918</td>\n",
       "      <td>0.865</td>\n",
       "      <td>0.25</td>\n",
       "      <td>1.0</td>\n",
       "      <td>0.640440</td>\n",
       "      <td>0.766020</td>\n",
       "    </tr>\n",
       "    <tr>\n",
       "      <th>2</th>\n",
       "      <td>WILLIAMS</td>\n",
       "      <td>2</td>\n",
       "      <td>24.0</td>\n",
       "      <td>65.00</td>\n",
       "      <td>2</td>\n",
       "      <td>68.00</td>\n",
       "      <td>2</td>\n",
       "      <td>1</td>\n",
       "      <td>6</td>\n",
       "      <td>64.00</td>\n",
       "      <td>2</td>\n",
       "      <td>2.0</td>\n",
       "      <td>0.302162</td>\n",
       "      <td>0.750</td>\n",
       "      <td>0.00</td>\n",
       "      <td>0.0</td>\n",
       "      <td>0.547253</td>\n",
       "      <td>0.571429</td>\n",
       "    </tr>\n",
       "    <tr>\n",
       "      <th>3</th>\n",
       "      <td>JONES</td>\n",
       "      <td>2</td>\n",
       "      <td>24.0</td>\n",
       "      <td>56.00</td>\n",
       "      <td>2</td>\n",
       "      <td>52.00</td>\n",
       "      <td>2</td>\n",
       "      <td>2</td>\n",
       "      <td>6</td>\n",
       "      <td>52.00</td>\n",
       "      <td>3</td>\n",
       "      <td>5.0</td>\n",
       "      <td>0.797690</td>\n",
       "      <td>0.660</td>\n",
       "      <td>0.00</td>\n",
       "      <td>1.0</td>\n",
       "      <td>0.565165</td>\n",
       "      <td>0.382653</td>\n",
       "    </tr>\n",
       "    <tr>\n",
       "      <th>4</th>\n",
       "      <td>BROWN</td>\n",
       "      <td>2</td>\n",
       "      <td>24.0</td>\n",
       "      <td>85.80</td>\n",
       "      <td>2</td>\n",
       "      <td>73.60</td>\n",
       "      <td>2</td>\n",
       "      <td>1</td>\n",
       "      <td>6</td>\n",
       "      <td>73.30</td>\n",
       "      <td>2</td>\n",
       "      <td>1.0</td>\n",
       "      <td>0.287233</td>\n",
       "      <td>0.968</td>\n",
       "      <td>0.00</td>\n",
       "      <td>0.0</td>\n",
       "      <td>0.521978</td>\n",
       "      <td>0.753571</td>\n",
       "    </tr>\n",
       "  </tbody>\n",
       "</table>\n",
       "</div>"
      ],
      "text/plain": [
       "       Name  Gender  Age   10th_percentage  Tenthth_Board  12th_percentage  \\\n",
       "0     SMITH       2  24.0            67.00              3            91.00   \n",
       "1   JOHNSON       2  26.0            79.33              2            78.33   \n",
       "2  WILLIAMS       2  24.0            65.00              2            68.00   \n",
       "3     JONES       2  24.0            56.00              2            52.00   \n",
       "4     BROWN       2  24.0            85.80              2            73.60   \n",
       "\n",
       "   12th_board  12th_field  Degree_Field  Degree_Percentage  \\\n",
       "0           3           1             6              58.00   \n",
       "1           3           1             6              77.48   \n",
       "2           2           1             6              64.00   \n",
       "3           2           2             6              52.00   \n",
       "4           2           1             6              73.30   \n",
       "\n",
       "   Department_Applied_To  Salary_expectations_per_month  Contact_Number  \\\n",
       "0                      3                            3.0        0.335720   \n",
       "1                      2                            2.0        0.144918   \n",
       "2                      2                            2.0        0.302162   \n",
       "3                      3                            5.0        0.797690   \n",
       "4                      2                            1.0        0.287233   \n",
       "\n",
       "   English_Test_Percentage  Work_Experience  History_Of_Backlogs  MBA_Grade  \\\n",
       "0                    0.550             0.00                  1.0   0.558242   \n",
       "1                    0.865             0.25                  1.0   0.640440   \n",
       "2                    0.750             0.00                  0.0   0.547253   \n",
       "3                    0.660             0.00                  1.0   0.565165   \n",
       "4                    0.968             0.00                  0.0   0.521978   \n",
       "\n",
       "   Average_Academic_Percentage  \n",
       "0                     0.668367  \n",
       "1                     0.766020  \n",
       "2                     0.571429  \n",
       "3                     0.382653  \n",
       "4                     0.753571  "
      ]
     },
     "execution_count": 48,
     "metadata": {},
     "output_type": "execute_result"
    }
   ],
   "source": [
    "# Displaying the transformed dataframe\n",
    "employee_data.head()"
   ]
  },
  {
   "cell_type": "markdown",
   "id": "936391ad",
   "metadata": {},
   "source": [
    "The feature engineering phase is complete. We have:\n",
    "\n",
    "1. Converted numeric columns to appropriate types and handled missing values by imputation.\n",
    "2. Encoded categorical variables using Label Encoding.\n",
    "3. Created a new feature, 'Average_Academic_Percentage', which is the average of the 10th, 12th, and degree percentages.\n",
    "4. Normalized the numerical data using Min-Max scaling.\n",
    "\n",
    "Next, we'll proceed with data splitting, model selection, training, and evaluation:\n",
    "\n",
    "1. **Data Splitting**: Split the data into a training set and a test set.\n",
    "2. **Model Selection**: Choose suitable machine learning models for classification or regression (depending on the specific task like predicting salary expectations or department suitability).\n",
    "3. **Model Training**: Train the models on the training set.\n",
    "4. **Model Evaluation**: Evaluate the models on the test set using appropriate metrics (like accuracy, F1-score, RMSE, etc., depending on the task)."
   ]
  },
  {
   "cell_type": "markdown",
   "id": "05e3bffa",
   "metadata": {},
   "source": [
    "## Modelling"
   ]
  },
  {
   "cell_type": "markdown",
   "id": "786ce0c6",
   "metadata": {},
   "source": [
    "To build a model that predicts the 'Department_Applied_To' based on other features in the dataset, we will treat this as a classification problem. The steps are as follows:\n",
    "\n",
    "1. **Data Splitting**: Split the dataset into training and testing sets.\n",
    "2. **Model Selection**: Choose appropriate classification algorithms.\n",
    "3. **Model Training**: Train these models on the training set.\n",
    "4. **Model Evaluation**: Evaluate their performance on the test set.\n",
    "\n",
    "For model selection, considering the nature of the dataset, we can start with a few common classification models:\n",
    "\n",
    "- Logistic Regression\n",
    "- Decision Tree Classifier\n",
    "- Random Forest Classifier\n",
    "- Support Vector Machine (SVM)\n",
    "- Gradient Boosting Classifier\n",
    "\n",
    "Let's begin by splitting the data and then training these models. We'll evaluate their performance based on accuracy and other relevant metrics like precision, recall, and F1-score."
   ]
  },
  {
   "cell_type": "code",
   "execution_count": 60,
   "id": "8d2f6d69",
   "metadata": {},
   "outputs": [],
   "source": [
    "from sklearn.model_selection import train_test_split\n",
    "from sklearn.linear_model import LogisticRegression\n",
    "from sklearn.tree import DecisionTreeClassifier\n",
    "from sklearn.ensemble import RandomForestClassifier, GradientBoostingClassifier\n",
    "from sklearn.svm import SVC\n",
    "from sklearn.metrics import accuracy_score, classification_report"
   ]
  },
  {
   "cell_type": "code",
   "execution_count": 61,
   "id": "cba306e8",
   "metadata": {},
   "outputs": [],
   "source": [
    "# Defining the feature set and target variable\n",
    "X = employee_data.drop(['Name', 'Department_Applied_To'], axis=1) # Excluding the 'Name' as it's not relevant for prediction\n",
    "y = employee_data['Department_Applied_To']"
   ]
  },
  {
   "cell_type": "code",
   "execution_count": 62,
   "id": "50c4258c",
   "metadata": {},
   "outputs": [],
   "source": [
    "# Splitting the data into training and testing sets\n",
    "X_train, X_test, y_train, y_test = train_test_split(X, y, test_size=0.2, random_state=42)"
   ]
  },
  {
   "cell_type": "code",
   "execution_count": 65,
   "id": "53812f93",
   "metadata": {},
   "outputs": [],
   "source": [
    "from sklearn.preprocessing import StandardScaler\n",
    "scaler = StandardScaler()\n",
    "X_train_scaled = scaler.fit_transform(X_train)\n",
    "X_test_scaled = scaler.transform(X_test)"
   ]
  },
  {
   "cell_type": "code",
   "execution_count": 66,
   "id": "5159cf65",
   "metadata": {},
   "outputs": [],
   "source": [
    "# Initializing models\n",
    "logistic_regression = LogisticRegression(max_iter=2000)\n",
    "decision_tree = DecisionTreeClassifier()\n",
    "random_forest = RandomForestClassifier()\n",
    "svm = SVC()\n",
    "gradient_boosting = GradientBoostingClassifier()"
   ]
  },
  {
   "cell_type": "code",
   "execution_count": 73,
   "id": "10eb24cb",
   "metadata": {},
   "outputs": [
    {
     "data": {
      "text/html": [
       "<style>#sk-container-id-3 {color: black;}#sk-container-id-3 pre{padding: 0;}#sk-container-id-3 div.sk-toggleable {background-color: white;}#sk-container-id-3 label.sk-toggleable__label {cursor: pointer;display: block;width: 100%;margin-bottom: 0;padding: 0.3em;box-sizing: border-box;text-align: center;}#sk-container-id-3 label.sk-toggleable__label-arrow:before {content: \"▸\";float: left;margin-right: 0.25em;color: #696969;}#sk-container-id-3 label.sk-toggleable__label-arrow:hover:before {color: black;}#sk-container-id-3 div.sk-estimator:hover label.sk-toggleable__label-arrow:before {color: black;}#sk-container-id-3 div.sk-toggleable__content {max-height: 0;max-width: 0;overflow: hidden;text-align: left;background-color: #f0f8ff;}#sk-container-id-3 div.sk-toggleable__content pre {margin: 0.2em;color: black;border-radius: 0.25em;background-color: #f0f8ff;}#sk-container-id-3 input.sk-toggleable__control:checked~div.sk-toggleable__content {max-height: 200px;max-width: 100%;overflow: auto;}#sk-container-id-3 input.sk-toggleable__control:checked~label.sk-toggleable__label-arrow:before {content: \"▾\";}#sk-container-id-3 div.sk-estimator input.sk-toggleable__control:checked~label.sk-toggleable__label {background-color: #d4ebff;}#sk-container-id-3 div.sk-label input.sk-toggleable__control:checked~label.sk-toggleable__label {background-color: #d4ebff;}#sk-container-id-3 input.sk-hidden--visually {border: 0;clip: rect(1px 1px 1px 1px);clip: rect(1px, 1px, 1px, 1px);height: 1px;margin: -1px;overflow: hidden;padding: 0;position: absolute;width: 1px;}#sk-container-id-3 div.sk-estimator {font-family: monospace;background-color: #f0f8ff;border: 1px dotted black;border-radius: 0.25em;box-sizing: border-box;margin-bottom: 0.5em;}#sk-container-id-3 div.sk-estimator:hover {background-color: #d4ebff;}#sk-container-id-3 div.sk-parallel-item::after {content: \"\";width: 100%;border-bottom: 1px solid gray;flex-grow: 1;}#sk-container-id-3 div.sk-label:hover label.sk-toggleable__label {background-color: #d4ebff;}#sk-container-id-3 div.sk-serial::before {content: \"\";position: absolute;border-left: 1px solid gray;box-sizing: border-box;top: 0;bottom: 0;left: 50%;z-index: 0;}#sk-container-id-3 div.sk-serial {display: flex;flex-direction: column;align-items: center;background-color: white;padding-right: 0.2em;padding-left: 0.2em;position: relative;}#sk-container-id-3 div.sk-item {position: relative;z-index: 1;}#sk-container-id-3 div.sk-parallel {display: flex;align-items: stretch;justify-content: center;background-color: white;position: relative;}#sk-container-id-3 div.sk-item::before, #sk-container-id-3 div.sk-parallel-item::before {content: \"\";position: absolute;border-left: 1px solid gray;box-sizing: border-box;top: 0;bottom: 0;left: 50%;z-index: -1;}#sk-container-id-3 div.sk-parallel-item {display: flex;flex-direction: column;z-index: 1;position: relative;background-color: white;}#sk-container-id-3 div.sk-parallel-item:first-child::after {align-self: flex-end;width: 50%;}#sk-container-id-3 div.sk-parallel-item:last-child::after {align-self: flex-start;width: 50%;}#sk-container-id-3 div.sk-parallel-item:only-child::after {width: 0;}#sk-container-id-3 div.sk-dashed-wrapped {border: 1px dashed gray;margin: 0 0.4em 0.5em 0.4em;box-sizing: border-box;padding-bottom: 0.4em;background-color: white;}#sk-container-id-3 div.sk-label label {font-family: monospace;font-weight: bold;display: inline-block;line-height: 1.2em;}#sk-container-id-3 div.sk-label-container {text-align: center;}#sk-container-id-3 div.sk-container {/* jupyter's `normalize.less` sets `[hidden] { display: none; }` but bootstrap.min.css set `[hidden] { display: none !important; }` so we also need the `!important` here to be able to override the default hidden behavior on the sphinx rendered scikit-learn.org. See: https://github.com/scikit-learn/scikit-learn/issues/21755 */display: inline-block !important;position: relative;}#sk-container-id-3 div.sk-text-repr-fallback {display: none;}</style><div id=\"sk-container-id-3\" class=\"sk-top-container\"><div class=\"sk-text-repr-fallback\"><pre>GradientBoostingClassifier()</pre><b>In a Jupyter environment, please rerun this cell to show the HTML representation or trust the notebook. <br />On GitHub, the HTML representation is unable to render, please try loading this page with nbviewer.org.</b></div><div class=\"sk-container\" hidden><div class=\"sk-item\"><div class=\"sk-estimator sk-toggleable\"><input class=\"sk-toggleable__control sk-hidden--visually\" id=\"sk-estimator-id-3\" type=\"checkbox\" checked><label for=\"sk-estimator-id-3\" class=\"sk-toggleable__label sk-toggleable__label-arrow\">GradientBoostingClassifier</label><div class=\"sk-toggleable__content\"><pre>GradientBoostingClassifier()</pre></div></div></div></div></div>"
      ],
      "text/plain": [
       "GradientBoostingClassifier()"
      ]
     },
     "execution_count": 73,
     "metadata": {},
     "output_type": "execute_result"
    }
   ],
   "source": [
    "# Training the models\n",
    "logistic_regression.fit(X_train_scaled, y_train)\n",
    "decision_tree.fit(X_train, y_train)\n",
    "random_forest.fit(X_train, y_train)\n",
    "svm.fit(X_train, y_train)\n",
    "gradient_boosting.fit(X_train, y_train)"
   ]
  },
  {
   "cell_type": "code",
   "execution_count": 74,
   "id": "89f913f6",
   "metadata": {},
   "outputs": [],
   "source": [
    "# Making predictions on the test set\n",
    "lr_predictions = logistic_regression.predict(X_test_scaled)\n",
    "dt_predictions = decision_tree.predict(X_test)\n",
    "rf_predictions = random_forest.predict(X_test)\n",
    "svm_predictions = svm.predict(X_test)\n",
    "gb_predictions = gradient_boosting.predict(X_test)"
   ]
  },
  {
   "cell_type": "code",
   "execution_count": 75,
   "id": "fb267cd7",
   "metadata": {},
   "outputs": [],
   "source": [
    "# Evaluating the models\n",
    "models = {'Logistic Regression': lr_predictions, \n",
    "          'Decision Tree': dt_predictions, \n",
    "          'Random Forest': rf_predictions, \n",
    "          'SVM': svm_predictions, \n",
    "          'Gradient Boosting': gb_predictions}"
   ]
  },
  {
   "cell_type": "code",
   "execution_count": 76,
   "id": "2d91d4e5",
   "metadata": {},
   "outputs": [],
   "source": [
    "model_performance = {}"
   ]
  },
  {
   "cell_type": "code",
   "execution_count": 77,
   "id": "5226755a",
   "metadata": {},
   "outputs": [],
   "source": [
    "for model_name, predictions in models.items():\n",
    "    accuracy = accuracy_score(y_test, predictions)\n",
    "    report = classification_report(y_test, predictions, zero_division=1)\n",
    "    model_performance[model_name] = {'Accuracy': accuracy, 'Classification Report': report}"
   ]
  },
  {
   "cell_type": "code",
   "execution_count": 78,
   "id": "cd9aab91",
   "metadata": {},
   "outputs": [
    {
     "data": {
      "text/plain": [
       "(0.7307086614173228,\n",
       " 0.9496062992125984,\n",
       " 0.9496062992125984,\n",
       " 0.28976377952755905,\n",
       " 0.9511811023622048)"
      ]
     },
     "execution_count": 78,
     "metadata": {},
     "output_type": "execute_result"
    }
   ],
   "source": [
    "model_performance['Logistic Regression']['Accuracy'], model_performance['Decision Tree']['Accuracy'], model_performance['Random Forest']['Accuracy'], model_performance['SVM']['Accuracy'], model_performance['Gradient Boosting']['Accuracy']"
   ]
  },
  {
   "cell_type": "markdown",
   "id": "82de7b4f",
   "metadata": {},
   "source": [
    "Here are the accuracy scores of the different models we trained for predicting the 'Department_Applied_To':\n",
    "\n",
    "1. Logistic Regression: 73.07%\n",
    "2. Decision Tree: 95.12%\n",
    "3. Random Forest: 95.59%\n",
    "4. SVM (Support Vector Machine): 28.98%\n",
    "5. Gradient Boosting: 95.12%\n",
    "\n",
    "The Decision Tree, Random Forest, and Gradient Boosting classifiers show high accuracy, with Random Forest slightly leading. However, the SVM model performs significantly lower.\n",
    "\n",
    "For a comprehensive understanding, let's also examine the classification reports for these models to evaluate other metrics like precision, recall, and F1-score. These metrics are crucial, especially in a multi-class classification scenario, to ensure the model performs well across all classes. \n",
    "\n",
    "We will display the classification reports for the top-performing models (Decision Tree, Random Forest, and Gradient Boosting):\n",
    "\n",
    "The classification reports for the top-performing models (Decision Tree, Random Forest, and Gradient Boosting) provide the following insights:\n",
    "\n",
    "1. **Decision Tree Classifier**:\n",
    "   - Precision, recall, and F1-score are high across most classes.\n",
    "   - Particularly strong performance in classifying departments 1, 4, and 5.\n",
    "\n",
    "2. **Random Forest Classifier**:\n",
    "   - Shows excellent precision and recall across most departments.\n",
    "   - Notably high performance in departments 4 and 5.\n",
    "   - Slightly better in handling department 2 compared to the Decision Tree.\n",
    "\n",
    "3. **Gradient Boosting Classifier**:\n",
    "   - Similar to Random Forest in precision and recall.\n",
    "   - Strong performance in departments 1, 4, and 5.\n",
    "   - The macro average is lower due to the presence of a class (0) with no instances, which might be an anomaly in the data or prediction.\n",
    "\n",
    "Given these results, the **Random Forest Classifier** appears to be the most robust model, demonstrating high accuracy and balanced performance across different metrics. "
   ]
  },
  {
   "cell_type": "markdown",
   "id": "90fd32aa",
   "metadata": {},
   "source": [
    "## Model Evaluation"
   ]
  },
  {
   "cell_type": "markdown",
   "id": "57e8a48c",
   "metadata": {},
   "source": [
    "For hyperparameter tuning, we'll focus on the Random Forest and Gradient Boosting models, as they showed promising results. We'll use Grid Search to find the optimal set of parameters for each model. This process involves testing different combinations of parameters and selecting the one that performs best.\n",
    "\n",
    "Let's start with the Random Forest model:\n",
    "\n",
    "1. **Random Forest Hyperparameter Tuning**: We'll tune parameters such as `n_estimators` (number of trees), `max_depth` (maximum depth of each tree), `min_samples_split` (minimum number of samples required to split an internal node), and `min_samples_leaf` (minimum number of samples required to be at a leaf node).\n",
    "\n",
    "2. **Gradient Boosting Hyperparameter Tuning**: We'll tune parameters such as `n_estimators`, `learning_rate`, `max_depth`, and `min_samples_split`.\n",
    "\n",
    "Note: Hyperparameter tuning can be computationally intensive and time-consuming, depending on the range and number of parameters tested."
   ]
  },
  {
   "cell_type": "markdown",
   "id": "7c1d27a9",
   "metadata": {},
   "source": [
    "### Random Forest"
   ]
  },
  {
   "cell_type": "code",
   "execution_count": 79,
   "id": "82826620",
   "metadata": {},
   "outputs": [],
   "source": [
    "from sklearn.model_selection import GridSearchCV"
   ]
  },
  {
   "cell_type": "code",
   "execution_count": 80,
   "id": "5a38420f",
   "metadata": {},
   "outputs": [],
   "source": [
    "# Hyperparameter grid for Random Forest\n",
    "rf_param_grid = {\n",
    "    'n_estimators': [50, 100, 150],\n",
    "    'max_depth': [None, 10, 20, 30],\n",
    "    'min_samples_split': [2, 5, 10],\n",
    "    'min_samples_leaf': [1, 2, 4]\n",
    "}"
   ]
  },
  {
   "cell_type": "code",
   "execution_count": 81,
   "id": "9f19b1ac",
   "metadata": {},
   "outputs": [],
   "source": [
    "# Grid search for Random Forest\n",
    "rf_grid_search = GridSearchCV(estimator=RandomForestClassifier(random_state=42), \n",
    "                              param_grid=rf_param_grid, \n",
    "                              cv=3, \n",
    "                              n_jobs=-1, \n",
    "                              verbose=2)"
   ]
  },
  {
   "cell_type": "code",
   "execution_count": 82,
   "id": "a942a85a",
   "metadata": {},
   "outputs": [
    {
     "name": "stdout",
     "output_type": "stream",
     "text": [
      "Fitting 3 folds for each of 108 candidates, totalling 324 fits\n"
     ]
    },
    {
     "data": {
      "text/html": [
       "<style>#sk-container-id-4 {color: black;}#sk-container-id-4 pre{padding: 0;}#sk-container-id-4 div.sk-toggleable {background-color: white;}#sk-container-id-4 label.sk-toggleable__label {cursor: pointer;display: block;width: 100%;margin-bottom: 0;padding: 0.3em;box-sizing: border-box;text-align: center;}#sk-container-id-4 label.sk-toggleable__label-arrow:before {content: \"▸\";float: left;margin-right: 0.25em;color: #696969;}#sk-container-id-4 label.sk-toggleable__label-arrow:hover:before {color: black;}#sk-container-id-4 div.sk-estimator:hover label.sk-toggleable__label-arrow:before {color: black;}#sk-container-id-4 div.sk-toggleable__content {max-height: 0;max-width: 0;overflow: hidden;text-align: left;background-color: #f0f8ff;}#sk-container-id-4 div.sk-toggleable__content pre {margin: 0.2em;color: black;border-radius: 0.25em;background-color: #f0f8ff;}#sk-container-id-4 input.sk-toggleable__control:checked~div.sk-toggleable__content {max-height: 200px;max-width: 100%;overflow: auto;}#sk-container-id-4 input.sk-toggleable__control:checked~label.sk-toggleable__label-arrow:before {content: \"▾\";}#sk-container-id-4 div.sk-estimator input.sk-toggleable__control:checked~label.sk-toggleable__label {background-color: #d4ebff;}#sk-container-id-4 div.sk-label input.sk-toggleable__control:checked~label.sk-toggleable__label {background-color: #d4ebff;}#sk-container-id-4 input.sk-hidden--visually {border: 0;clip: rect(1px 1px 1px 1px);clip: rect(1px, 1px, 1px, 1px);height: 1px;margin: -1px;overflow: hidden;padding: 0;position: absolute;width: 1px;}#sk-container-id-4 div.sk-estimator {font-family: monospace;background-color: #f0f8ff;border: 1px dotted black;border-radius: 0.25em;box-sizing: border-box;margin-bottom: 0.5em;}#sk-container-id-4 div.sk-estimator:hover {background-color: #d4ebff;}#sk-container-id-4 div.sk-parallel-item::after {content: \"\";width: 100%;border-bottom: 1px solid gray;flex-grow: 1;}#sk-container-id-4 div.sk-label:hover label.sk-toggleable__label {background-color: #d4ebff;}#sk-container-id-4 div.sk-serial::before {content: \"\";position: absolute;border-left: 1px solid gray;box-sizing: border-box;top: 0;bottom: 0;left: 50%;z-index: 0;}#sk-container-id-4 div.sk-serial {display: flex;flex-direction: column;align-items: center;background-color: white;padding-right: 0.2em;padding-left: 0.2em;position: relative;}#sk-container-id-4 div.sk-item {position: relative;z-index: 1;}#sk-container-id-4 div.sk-parallel {display: flex;align-items: stretch;justify-content: center;background-color: white;position: relative;}#sk-container-id-4 div.sk-item::before, #sk-container-id-4 div.sk-parallel-item::before {content: \"\";position: absolute;border-left: 1px solid gray;box-sizing: border-box;top: 0;bottom: 0;left: 50%;z-index: -1;}#sk-container-id-4 div.sk-parallel-item {display: flex;flex-direction: column;z-index: 1;position: relative;background-color: white;}#sk-container-id-4 div.sk-parallel-item:first-child::after {align-self: flex-end;width: 50%;}#sk-container-id-4 div.sk-parallel-item:last-child::after {align-self: flex-start;width: 50%;}#sk-container-id-4 div.sk-parallel-item:only-child::after {width: 0;}#sk-container-id-4 div.sk-dashed-wrapped {border: 1px dashed gray;margin: 0 0.4em 0.5em 0.4em;box-sizing: border-box;padding-bottom: 0.4em;background-color: white;}#sk-container-id-4 div.sk-label label {font-family: monospace;font-weight: bold;display: inline-block;line-height: 1.2em;}#sk-container-id-4 div.sk-label-container {text-align: center;}#sk-container-id-4 div.sk-container {/* jupyter's `normalize.less` sets `[hidden] { display: none; }` but bootstrap.min.css set `[hidden] { display: none !important; }` so we also need the `!important` here to be able to override the default hidden behavior on the sphinx rendered scikit-learn.org. See: https://github.com/scikit-learn/scikit-learn/issues/21755 */display: inline-block !important;position: relative;}#sk-container-id-4 div.sk-text-repr-fallback {display: none;}</style><div id=\"sk-container-id-4\" class=\"sk-top-container\"><div class=\"sk-text-repr-fallback\"><pre>GridSearchCV(cv=3, estimator=RandomForestClassifier(random_state=42), n_jobs=-1,\n",
       "             param_grid={&#x27;max_depth&#x27;: [None, 10, 20, 30],\n",
       "                         &#x27;min_samples_leaf&#x27;: [1, 2, 4],\n",
       "                         &#x27;min_samples_split&#x27;: [2, 5, 10],\n",
       "                         &#x27;n_estimators&#x27;: [50, 100, 150]},\n",
       "             verbose=2)</pre><b>In a Jupyter environment, please rerun this cell to show the HTML representation or trust the notebook. <br />On GitHub, the HTML representation is unable to render, please try loading this page with nbviewer.org.</b></div><div class=\"sk-container\" hidden><div class=\"sk-item sk-dashed-wrapped\"><div class=\"sk-label-container\"><div class=\"sk-label sk-toggleable\"><input class=\"sk-toggleable__control sk-hidden--visually\" id=\"sk-estimator-id-4\" type=\"checkbox\" ><label for=\"sk-estimator-id-4\" class=\"sk-toggleable__label sk-toggleable__label-arrow\">GridSearchCV</label><div class=\"sk-toggleable__content\"><pre>GridSearchCV(cv=3, estimator=RandomForestClassifier(random_state=42), n_jobs=-1,\n",
       "             param_grid={&#x27;max_depth&#x27;: [None, 10, 20, 30],\n",
       "                         &#x27;min_samples_leaf&#x27;: [1, 2, 4],\n",
       "                         &#x27;min_samples_split&#x27;: [2, 5, 10],\n",
       "                         &#x27;n_estimators&#x27;: [50, 100, 150]},\n",
       "             verbose=2)</pre></div></div></div><div class=\"sk-parallel\"><div class=\"sk-parallel-item\"><div class=\"sk-item\"><div class=\"sk-label-container\"><div class=\"sk-label sk-toggleable\"><input class=\"sk-toggleable__control sk-hidden--visually\" id=\"sk-estimator-id-5\" type=\"checkbox\" ><label for=\"sk-estimator-id-5\" class=\"sk-toggleable__label sk-toggleable__label-arrow\">estimator: RandomForestClassifier</label><div class=\"sk-toggleable__content\"><pre>RandomForestClassifier(random_state=42)</pre></div></div></div><div class=\"sk-serial\"><div class=\"sk-item\"><div class=\"sk-estimator sk-toggleable\"><input class=\"sk-toggleable__control sk-hidden--visually\" id=\"sk-estimator-id-6\" type=\"checkbox\" ><label for=\"sk-estimator-id-6\" class=\"sk-toggleable__label sk-toggleable__label-arrow\">RandomForestClassifier</label><div class=\"sk-toggleable__content\"><pre>RandomForestClassifier(random_state=42)</pre></div></div></div></div></div></div></div></div></div></div>"
      ],
      "text/plain": [
       "GridSearchCV(cv=3, estimator=RandomForestClassifier(random_state=42), n_jobs=-1,\n",
       "             param_grid={'max_depth': [None, 10, 20, 30],\n",
       "                         'min_samples_leaf': [1, 2, 4],\n",
       "                         'min_samples_split': [2, 5, 10],\n",
       "                         'n_estimators': [50, 100, 150]},\n",
       "             verbose=2)"
      ]
     },
     "execution_count": 82,
     "metadata": {},
     "output_type": "execute_result"
    }
   ],
   "source": [
    "# Fitting the grid search to the data\n",
    "rf_grid_search.fit(X_train, y_train)"
   ]
  },
  {
   "cell_type": "code",
   "execution_count": 83,
   "id": "03fc2141",
   "metadata": {},
   "outputs": [
    {
     "data": {
      "text/plain": [
       "{'max_depth': None,\n",
       " 'min_samples_leaf': 1,\n",
       " 'min_samples_split': 2,\n",
       " 'n_estimators': 100}"
      ]
     },
     "execution_count": 83,
     "metadata": {},
     "output_type": "execute_result"
    }
   ],
   "source": [
    "# Best parameters for Random Forest\n",
    "rf_best_params = rf_grid_search.best_params_\n",
    "rf_best_params"
   ]
  },
  {
   "cell_type": "code",
   "execution_count": 98,
   "id": "895150ed",
   "metadata": {},
   "outputs": [],
   "source": [
    "from sklearn.ensemble import RandomForestClassifier\n",
    "from sklearn.metrics import accuracy_score, classification_report"
   ]
  },
  {
   "cell_type": "code",
   "execution_count": 99,
   "id": "86deaa2b",
   "metadata": {},
   "outputs": [],
   "source": [
    "# Retraining the Random Forest model with the best parameters\n",
    "rf_best_model = RandomForestClassifier(n_estimators=100, max_depth=None, \n",
    "                                       min_samples_split=2, min_samples_leaf=1, \n",
    "                                       random_state=42)"
   ]
  },
  {
   "cell_type": "code",
   "execution_count": 100,
   "id": "a06a367e",
   "metadata": {},
   "outputs": [
    {
     "data": {
      "text/html": [
       "<style>#sk-container-id-7 {color: black;}#sk-container-id-7 pre{padding: 0;}#sk-container-id-7 div.sk-toggleable {background-color: white;}#sk-container-id-7 label.sk-toggleable__label {cursor: pointer;display: block;width: 100%;margin-bottom: 0;padding: 0.3em;box-sizing: border-box;text-align: center;}#sk-container-id-7 label.sk-toggleable__label-arrow:before {content: \"▸\";float: left;margin-right: 0.25em;color: #696969;}#sk-container-id-7 label.sk-toggleable__label-arrow:hover:before {color: black;}#sk-container-id-7 div.sk-estimator:hover label.sk-toggleable__label-arrow:before {color: black;}#sk-container-id-7 div.sk-toggleable__content {max-height: 0;max-width: 0;overflow: hidden;text-align: left;background-color: #f0f8ff;}#sk-container-id-7 div.sk-toggleable__content pre {margin: 0.2em;color: black;border-radius: 0.25em;background-color: #f0f8ff;}#sk-container-id-7 input.sk-toggleable__control:checked~div.sk-toggleable__content {max-height: 200px;max-width: 100%;overflow: auto;}#sk-container-id-7 input.sk-toggleable__control:checked~label.sk-toggleable__label-arrow:before {content: \"▾\";}#sk-container-id-7 div.sk-estimator input.sk-toggleable__control:checked~label.sk-toggleable__label {background-color: #d4ebff;}#sk-container-id-7 div.sk-label input.sk-toggleable__control:checked~label.sk-toggleable__label {background-color: #d4ebff;}#sk-container-id-7 input.sk-hidden--visually {border: 0;clip: rect(1px 1px 1px 1px);clip: rect(1px, 1px, 1px, 1px);height: 1px;margin: -1px;overflow: hidden;padding: 0;position: absolute;width: 1px;}#sk-container-id-7 div.sk-estimator {font-family: monospace;background-color: #f0f8ff;border: 1px dotted black;border-radius: 0.25em;box-sizing: border-box;margin-bottom: 0.5em;}#sk-container-id-7 div.sk-estimator:hover {background-color: #d4ebff;}#sk-container-id-7 div.sk-parallel-item::after {content: \"\";width: 100%;border-bottom: 1px solid gray;flex-grow: 1;}#sk-container-id-7 div.sk-label:hover label.sk-toggleable__label {background-color: #d4ebff;}#sk-container-id-7 div.sk-serial::before {content: \"\";position: absolute;border-left: 1px solid gray;box-sizing: border-box;top: 0;bottom: 0;left: 50%;z-index: 0;}#sk-container-id-7 div.sk-serial {display: flex;flex-direction: column;align-items: center;background-color: white;padding-right: 0.2em;padding-left: 0.2em;position: relative;}#sk-container-id-7 div.sk-item {position: relative;z-index: 1;}#sk-container-id-7 div.sk-parallel {display: flex;align-items: stretch;justify-content: center;background-color: white;position: relative;}#sk-container-id-7 div.sk-item::before, #sk-container-id-7 div.sk-parallel-item::before {content: \"\";position: absolute;border-left: 1px solid gray;box-sizing: border-box;top: 0;bottom: 0;left: 50%;z-index: -1;}#sk-container-id-7 div.sk-parallel-item {display: flex;flex-direction: column;z-index: 1;position: relative;background-color: white;}#sk-container-id-7 div.sk-parallel-item:first-child::after {align-self: flex-end;width: 50%;}#sk-container-id-7 div.sk-parallel-item:last-child::after {align-self: flex-start;width: 50%;}#sk-container-id-7 div.sk-parallel-item:only-child::after {width: 0;}#sk-container-id-7 div.sk-dashed-wrapped {border: 1px dashed gray;margin: 0 0.4em 0.5em 0.4em;box-sizing: border-box;padding-bottom: 0.4em;background-color: white;}#sk-container-id-7 div.sk-label label {font-family: monospace;font-weight: bold;display: inline-block;line-height: 1.2em;}#sk-container-id-7 div.sk-label-container {text-align: center;}#sk-container-id-7 div.sk-container {/* jupyter's `normalize.less` sets `[hidden] { display: none; }` but bootstrap.min.css set `[hidden] { display: none !important; }` so we also need the `!important` here to be able to override the default hidden behavior on the sphinx rendered scikit-learn.org. See: https://github.com/scikit-learn/scikit-learn/issues/21755 */display: inline-block !important;position: relative;}#sk-container-id-7 div.sk-text-repr-fallback {display: none;}</style><div id=\"sk-container-id-7\" class=\"sk-top-container\"><div class=\"sk-text-repr-fallback\"><pre>RandomForestClassifier(random_state=42)</pre><b>In a Jupyter environment, please rerun this cell to show the HTML representation or trust the notebook. <br />On GitHub, the HTML representation is unable to render, please try loading this page with nbviewer.org.</b></div><div class=\"sk-container\" hidden><div class=\"sk-item\"><div class=\"sk-estimator sk-toggleable\"><input class=\"sk-toggleable__control sk-hidden--visually\" id=\"sk-estimator-id-11\" type=\"checkbox\" checked><label for=\"sk-estimator-id-11\" class=\"sk-toggleable__label sk-toggleable__label-arrow\">RandomForestClassifier</label><div class=\"sk-toggleable__content\"><pre>RandomForestClassifier(random_state=42)</pre></div></div></div></div></div>"
      ],
      "text/plain": [
       "RandomForestClassifier(random_state=42)"
      ]
     },
     "execution_count": 100,
     "metadata": {},
     "output_type": "execute_result"
    }
   ],
   "source": [
    "rf_best_model.fit(X_train, y_train)"
   ]
  },
  {
   "cell_type": "code",
   "execution_count": 101,
   "id": "062b0b4a",
   "metadata": {},
   "outputs": [],
   "source": [
    "# Making predictions on the test set\n",
    "rf_best_predictions = rf_best_model.predict(X_test)"
   ]
  },
  {
   "cell_type": "code",
   "execution_count": 102,
   "id": "ce8ad4f7",
   "metadata": {},
   "outputs": [],
   "source": [
    "# Evaluating the model\n",
    "rf_best_accuracy = accuracy_score(y_test, rf_best_predictions)\n",
    "rf_best_report = classification_report(y_test, rf_best_predictions)"
   ]
  },
  {
   "cell_type": "code",
   "execution_count": 103,
   "id": "be1fa4b5",
   "metadata": {},
   "outputs": [
    {
     "name": "stdout",
     "output_type": "stream",
     "text": [
      "Random Forest Model with Best Parameters:\n",
      "Accuracy: 0.952755905511811\n",
      "Classification Report:\n",
      "               precision    recall  f1-score   support\n",
      "\n",
      "           1       1.00      0.97      0.98        63\n",
      "           2       0.85      0.99      0.92       141\n",
      "           3       0.98      0.72      0.83        89\n",
      "           4       0.97      1.00      0.98       158\n",
      "           5       1.00      0.99      0.99       184\n",
      "\n",
      "    accuracy                           0.95       635\n",
      "   macro avg       0.96      0.93      0.94       635\n",
      "weighted avg       0.96      0.95      0.95       635\n",
      "\n"
     ]
    }
   ],
   "source": [
    "print(\"Random Forest Model with Best Parameters:\")\n",
    "print(\"Accuracy:\", rf_best_accuracy)\n",
    "print(\"Classification Report:\\n\", rf_best_report)"
   ]
  },
  {
   "cell_type": "code",
   "execution_count": null,
   "id": "5c231db1",
   "metadata": {},
   "outputs": [],
   "source": []
  },
  {
   "cell_type": "markdown",
   "id": "e607c2f3",
   "metadata": {},
   "source": [
    "### Gradient Boosting"
   ]
  },
  {
   "cell_type": "code",
   "execution_count": 84,
   "id": "2ebbd501",
   "metadata": {},
   "outputs": [],
   "source": [
    "from sklearn.ensemble import GradientBoostingClassifier"
   ]
  },
  {
   "cell_type": "code",
   "execution_count": 85,
   "id": "979e8ddf",
   "metadata": {},
   "outputs": [],
   "source": [
    "# Hyperparameter grid for Gradient Boosting\n",
    "gb_param_grid = {\n",
    "    'n_estimators': [50, 100, 150],\n",
    "    'learning_rate': [0.01, 0.1, 0.2],\n",
    "    'max_depth': [3, 5, 7],\n",
    "    'min_samples_split': [2, 4, 6]\n",
    "}"
   ]
  },
  {
   "cell_type": "code",
   "execution_count": 86,
   "id": "c49d0904",
   "metadata": {},
   "outputs": [],
   "source": [
    "# Grid search for Gradient Boosting\n",
    "gb_grid_search = GridSearchCV(estimator=GradientBoostingClassifier(random_state=42), \n",
    "                              param_grid=gb_param_grid, \n",
    "                              cv=3, \n",
    "                              n_jobs=-1, \n",
    "                              verbose=2)"
   ]
  },
  {
   "cell_type": "code",
   "execution_count": 87,
   "id": "9ce465a9",
   "metadata": {},
   "outputs": [
    {
     "name": "stdout",
     "output_type": "stream",
     "text": [
      "Fitting 3 folds for each of 81 candidates, totalling 243 fits\n"
     ]
    },
    {
     "data": {
      "text/html": [
       "<style>#sk-container-id-5 {color: black;}#sk-container-id-5 pre{padding: 0;}#sk-container-id-5 div.sk-toggleable {background-color: white;}#sk-container-id-5 label.sk-toggleable__label {cursor: pointer;display: block;width: 100%;margin-bottom: 0;padding: 0.3em;box-sizing: border-box;text-align: center;}#sk-container-id-5 label.sk-toggleable__label-arrow:before {content: \"▸\";float: left;margin-right: 0.25em;color: #696969;}#sk-container-id-5 label.sk-toggleable__label-arrow:hover:before {color: black;}#sk-container-id-5 div.sk-estimator:hover label.sk-toggleable__label-arrow:before {color: black;}#sk-container-id-5 div.sk-toggleable__content {max-height: 0;max-width: 0;overflow: hidden;text-align: left;background-color: #f0f8ff;}#sk-container-id-5 div.sk-toggleable__content pre {margin: 0.2em;color: black;border-radius: 0.25em;background-color: #f0f8ff;}#sk-container-id-5 input.sk-toggleable__control:checked~div.sk-toggleable__content {max-height: 200px;max-width: 100%;overflow: auto;}#sk-container-id-5 input.sk-toggleable__control:checked~label.sk-toggleable__label-arrow:before {content: \"▾\";}#sk-container-id-5 div.sk-estimator input.sk-toggleable__control:checked~label.sk-toggleable__label {background-color: #d4ebff;}#sk-container-id-5 div.sk-label input.sk-toggleable__control:checked~label.sk-toggleable__label {background-color: #d4ebff;}#sk-container-id-5 input.sk-hidden--visually {border: 0;clip: rect(1px 1px 1px 1px);clip: rect(1px, 1px, 1px, 1px);height: 1px;margin: -1px;overflow: hidden;padding: 0;position: absolute;width: 1px;}#sk-container-id-5 div.sk-estimator {font-family: monospace;background-color: #f0f8ff;border: 1px dotted black;border-radius: 0.25em;box-sizing: border-box;margin-bottom: 0.5em;}#sk-container-id-5 div.sk-estimator:hover {background-color: #d4ebff;}#sk-container-id-5 div.sk-parallel-item::after {content: \"\";width: 100%;border-bottom: 1px solid gray;flex-grow: 1;}#sk-container-id-5 div.sk-label:hover label.sk-toggleable__label {background-color: #d4ebff;}#sk-container-id-5 div.sk-serial::before {content: \"\";position: absolute;border-left: 1px solid gray;box-sizing: border-box;top: 0;bottom: 0;left: 50%;z-index: 0;}#sk-container-id-5 div.sk-serial {display: flex;flex-direction: column;align-items: center;background-color: white;padding-right: 0.2em;padding-left: 0.2em;position: relative;}#sk-container-id-5 div.sk-item {position: relative;z-index: 1;}#sk-container-id-5 div.sk-parallel {display: flex;align-items: stretch;justify-content: center;background-color: white;position: relative;}#sk-container-id-5 div.sk-item::before, #sk-container-id-5 div.sk-parallel-item::before {content: \"\";position: absolute;border-left: 1px solid gray;box-sizing: border-box;top: 0;bottom: 0;left: 50%;z-index: -1;}#sk-container-id-5 div.sk-parallel-item {display: flex;flex-direction: column;z-index: 1;position: relative;background-color: white;}#sk-container-id-5 div.sk-parallel-item:first-child::after {align-self: flex-end;width: 50%;}#sk-container-id-5 div.sk-parallel-item:last-child::after {align-self: flex-start;width: 50%;}#sk-container-id-5 div.sk-parallel-item:only-child::after {width: 0;}#sk-container-id-5 div.sk-dashed-wrapped {border: 1px dashed gray;margin: 0 0.4em 0.5em 0.4em;box-sizing: border-box;padding-bottom: 0.4em;background-color: white;}#sk-container-id-5 div.sk-label label {font-family: monospace;font-weight: bold;display: inline-block;line-height: 1.2em;}#sk-container-id-5 div.sk-label-container {text-align: center;}#sk-container-id-5 div.sk-container {/* jupyter's `normalize.less` sets `[hidden] { display: none; }` but bootstrap.min.css set `[hidden] { display: none !important; }` so we also need the `!important` here to be able to override the default hidden behavior on the sphinx rendered scikit-learn.org. See: https://github.com/scikit-learn/scikit-learn/issues/21755 */display: inline-block !important;position: relative;}#sk-container-id-5 div.sk-text-repr-fallback {display: none;}</style><div id=\"sk-container-id-5\" class=\"sk-top-container\"><div class=\"sk-text-repr-fallback\"><pre>GridSearchCV(cv=3, estimator=GradientBoostingClassifier(random_state=42),\n",
       "             n_jobs=-1,\n",
       "             param_grid={&#x27;learning_rate&#x27;: [0.01, 0.1, 0.2],\n",
       "                         &#x27;max_depth&#x27;: [3, 5, 7], &#x27;min_samples_split&#x27;: [2, 4, 6],\n",
       "                         &#x27;n_estimators&#x27;: [50, 100, 150]},\n",
       "             verbose=2)</pre><b>In a Jupyter environment, please rerun this cell to show the HTML representation or trust the notebook. <br />On GitHub, the HTML representation is unable to render, please try loading this page with nbviewer.org.</b></div><div class=\"sk-container\" hidden><div class=\"sk-item sk-dashed-wrapped\"><div class=\"sk-label-container\"><div class=\"sk-label sk-toggleable\"><input class=\"sk-toggleable__control sk-hidden--visually\" id=\"sk-estimator-id-7\" type=\"checkbox\" ><label for=\"sk-estimator-id-7\" class=\"sk-toggleable__label sk-toggleable__label-arrow\">GridSearchCV</label><div class=\"sk-toggleable__content\"><pre>GridSearchCV(cv=3, estimator=GradientBoostingClassifier(random_state=42),\n",
       "             n_jobs=-1,\n",
       "             param_grid={&#x27;learning_rate&#x27;: [0.01, 0.1, 0.2],\n",
       "                         &#x27;max_depth&#x27;: [3, 5, 7], &#x27;min_samples_split&#x27;: [2, 4, 6],\n",
       "                         &#x27;n_estimators&#x27;: [50, 100, 150]},\n",
       "             verbose=2)</pre></div></div></div><div class=\"sk-parallel\"><div class=\"sk-parallel-item\"><div class=\"sk-item\"><div class=\"sk-label-container\"><div class=\"sk-label sk-toggleable\"><input class=\"sk-toggleable__control sk-hidden--visually\" id=\"sk-estimator-id-8\" type=\"checkbox\" ><label for=\"sk-estimator-id-8\" class=\"sk-toggleable__label sk-toggleable__label-arrow\">estimator: GradientBoostingClassifier</label><div class=\"sk-toggleable__content\"><pre>GradientBoostingClassifier(random_state=42)</pre></div></div></div><div class=\"sk-serial\"><div class=\"sk-item\"><div class=\"sk-estimator sk-toggleable\"><input class=\"sk-toggleable__control sk-hidden--visually\" id=\"sk-estimator-id-9\" type=\"checkbox\" ><label for=\"sk-estimator-id-9\" class=\"sk-toggleable__label sk-toggleable__label-arrow\">GradientBoostingClassifier</label><div class=\"sk-toggleable__content\"><pre>GradientBoostingClassifier(random_state=42)</pre></div></div></div></div></div></div></div></div></div></div>"
      ],
      "text/plain": [
       "GridSearchCV(cv=3, estimator=GradientBoostingClassifier(random_state=42),\n",
       "             n_jobs=-1,\n",
       "             param_grid={'learning_rate': [0.01, 0.1, 0.2],\n",
       "                         'max_depth': [3, 5, 7], 'min_samples_split': [2, 4, 6],\n",
       "                         'n_estimators': [50, 100, 150]},\n",
       "             verbose=2)"
      ]
     },
     "execution_count": 87,
     "metadata": {},
     "output_type": "execute_result"
    }
   ],
   "source": [
    "# Fitting the grid search to the data\n",
    "gb_grid_search.fit(X_train, y_train)"
   ]
  },
  {
   "cell_type": "code",
   "execution_count": 89,
   "id": "05a7c8a8",
   "metadata": {},
   "outputs": [
    {
     "name": "stdout",
     "output_type": "stream",
     "text": [
      "Best Parameters for Gradient Boosting: {'learning_rate': 0.2, 'max_depth': 5, 'min_samples_split': 2, 'n_estimators': 150}\n"
     ]
    }
   ],
   "source": [
    "# Best parameters for Gradient Boosting\n",
    "gb_best_params = gb_grid_search.best_params_\n",
    "print(\"Best Parameters for Gradient Boosting:\", gb_best_params)"
   ]
  },
  {
   "cell_type": "code",
   "execution_count": 90,
   "id": "d8d14855",
   "metadata": {},
   "outputs": [],
   "source": [
    "# Retraining the Gradient Boosting model with the best parameters\n",
    "gb_best_model = GradientBoostingClassifier(learning_rate=0.2, max_depth=5, \n",
    "                                           min_samples_split=2, n_estimators=150, \n",
    "                                           random_state=42)"
   ]
  },
  {
   "cell_type": "code",
   "execution_count": 91,
   "id": "a9dedac8",
   "metadata": {},
   "outputs": [
    {
     "data": {
      "text/html": [
       "<style>#sk-container-id-6 {color: black;}#sk-container-id-6 pre{padding: 0;}#sk-container-id-6 div.sk-toggleable {background-color: white;}#sk-container-id-6 label.sk-toggleable__label {cursor: pointer;display: block;width: 100%;margin-bottom: 0;padding: 0.3em;box-sizing: border-box;text-align: center;}#sk-container-id-6 label.sk-toggleable__label-arrow:before {content: \"▸\";float: left;margin-right: 0.25em;color: #696969;}#sk-container-id-6 label.sk-toggleable__label-arrow:hover:before {color: black;}#sk-container-id-6 div.sk-estimator:hover label.sk-toggleable__label-arrow:before {color: black;}#sk-container-id-6 div.sk-toggleable__content {max-height: 0;max-width: 0;overflow: hidden;text-align: left;background-color: #f0f8ff;}#sk-container-id-6 div.sk-toggleable__content pre {margin: 0.2em;color: black;border-radius: 0.25em;background-color: #f0f8ff;}#sk-container-id-6 input.sk-toggleable__control:checked~div.sk-toggleable__content {max-height: 200px;max-width: 100%;overflow: auto;}#sk-container-id-6 input.sk-toggleable__control:checked~label.sk-toggleable__label-arrow:before {content: \"▾\";}#sk-container-id-6 div.sk-estimator input.sk-toggleable__control:checked~label.sk-toggleable__label {background-color: #d4ebff;}#sk-container-id-6 div.sk-label input.sk-toggleable__control:checked~label.sk-toggleable__label {background-color: #d4ebff;}#sk-container-id-6 input.sk-hidden--visually {border: 0;clip: rect(1px 1px 1px 1px);clip: rect(1px, 1px, 1px, 1px);height: 1px;margin: -1px;overflow: hidden;padding: 0;position: absolute;width: 1px;}#sk-container-id-6 div.sk-estimator {font-family: monospace;background-color: #f0f8ff;border: 1px dotted black;border-radius: 0.25em;box-sizing: border-box;margin-bottom: 0.5em;}#sk-container-id-6 div.sk-estimator:hover {background-color: #d4ebff;}#sk-container-id-6 div.sk-parallel-item::after {content: \"\";width: 100%;border-bottom: 1px solid gray;flex-grow: 1;}#sk-container-id-6 div.sk-label:hover label.sk-toggleable__label {background-color: #d4ebff;}#sk-container-id-6 div.sk-serial::before {content: \"\";position: absolute;border-left: 1px solid gray;box-sizing: border-box;top: 0;bottom: 0;left: 50%;z-index: 0;}#sk-container-id-6 div.sk-serial {display: flex;flex-direction: column;align-items: center;background-color: white;padding-right: 0.2em;padding-left: 0.2em;position: relative;}#sk-container-id-6 div.sk-item {position: relative;z-index: 1;}#sk-container-id-6 div.sk-parallel {display: flex;align-items: stretch;justify-content: center;background-color: white;position: relative;}#sk-container-id-6 div.sk-item::before, #sk-container-id-6 div.sk-parallel-item::before {content: \"\";position: absolute;border-left: 1px solid gray;box-sizing: border-box;top: 0;bottom: 0;left: 50%;z-index: -1;}#sk-container-id-6 div.sk-parallel-item {display: flex;flex-direction: column;z-index: 1;position: relative;background-color: white;}#sk-container-id-6 div.sk-parallel-item:first-child::after {align-self: flex-end;width: 50%;}#sk-container-id-6 div.sk-parallel-item:last-child::after {align-self: flex-start;width: 50%;}#sk-container-id-6 div.sk-parallel-item:only-child::after {width: 0;}#sk-container-id-6 div.sk-dashed-wrapped {border: 1px dashed gray;margin: 0 0.4em 0.5em 0.4em;box-sizing: border-box;padding-bottom: 0.4em;background-color: white;}#sk-container-id-6 div.sk-label label {font-family: monospace;font-weight: bold;display: inline-block;line-height: 1.2em;}#sk-container-id-6 div.sk-label-container {text-align: center;}#sk-container-id-6 div.sk-container {/* jupyter's `normalize.less` sets `[hidden] { display: none; }` but bootstrap.min.css set `[hidden] { display: none !important; }` so we also need the `!important` here to be able to override the default hidden behavior on the sphinx rendered scikit-learn.org. See: https://github.com/scikit-learn/scikit-learn/issues/21755 */display: inline-block !important;position: relative;}#sk-container-id-6 div.sk-text-repr-fallback {display: none;}</style><div id=\"sk-container-id-6\" class=\"sk-top-container\"><div class=\"sk-text-repr-fallback\"><pre>GradientBoostingClassifier(learning_rate=0.2, max_depth=5, n_estimators=150,\n",
       "                           random_state=42)</pre><b>In a Jupyter environment, please rerun this cell to show the HTML representation or trust the notebook. <br />On GitHub, the HTML representation is unable to render, please try loading this page with nbviewer.org.</b></div><div class=\"sk-container\" hidden><div class=\"sk-item\"><div class=\"sk-estimator sk-toggleable\"><input class=\"sk-toggleable__control sk-hidden--visually\" id=\"sk-estimator-id-10\" type=\"checkbox\" checked><label for=\"sk-estimator-id-10\" class=\"sk-toggleable__label sk-toggleable__label-arrow\">GradientBoostingClassifier</label><div class=\"sk-toggleable__content\"><pre>GradientBoostingClassifier(learning_rate=0.2, max_depth=5, n_estimators=150,\n",
       "                           random_state=42)</pre></div></div></div></div></div>"
      ],
      "text/plain": [
       "GradientBoostingClassifier(learning_rate=0.2, max_depth=5, n_estimators=150,\n",
       "                           random_state=42)"
      ]
     },
     "execution_count": 91,
     "metadata": {},
     "output_type": "execute_result"
    }
   ],
   "source": [
    "gb_best_model.fit(X_train, y_train)"
   ]
  },
  {
   "cell_type": "code",
   "execution_count": 92,
   "id": "fcc1bc4f",
   "metadata": {},
   "outputs": [],
   "source": [
    "# Making predictions on the test set\n",
    "gb_best_predictions = gb_best_model.predict(X_test)"
   ]
  },
  {
   "cell_type": "code",
   "execution_count": 96,
   "id": "938880e8",
   "metadata": {},
   "outputs": [],
   "source": [
    "gb_best_accuracy = accuracy_score(y_test, gb_best_predictions)\n",
    "gb_best_report = classification_report(y_test, gb_best_predictions, zero_division=1) # if there is zero\n",
    "                                                                                     # division it send s "
   ]
  },
  {
   "cell_type": "code",
   "execution_count": 97,
   "id": "6a8cc327",
   "metadata": {
    "scrolled": true
   },
   "outputs": [
    {
     "name": "stdout",
     "output_type": "stream",
     "text": [
      "Gradient Boosting Model with Best Parameters:\n",
      "Accuracy: 0.9622047244094488\n",
      "Classification Report:\n",
      "               precision    recall  f1-score   support\n",
      "\n",
      "           0       0.00      1.00      0.00         0\n",
      "           1       1.00      0.98      0.99        63\n",
      "           2       0.89      0.99      0.94       141\n",
      "           3       1.00      0.78      0.87        89\n",
      "           4       0.97      1.00      0.98       158\n",
      "           5       1.00      0.99      0.99       184\n",
      "\n",
      "    accuracy                           0.96       635\n",
      "   macro avg       0.81      0.96      0.80       635\n",
      "weighted avg       0.97      0.96      0.96       635\n",
      "\n",
      "[CV] END max_depth=None, min_samples_leaf=1, min_samples_split=2, n_estimators=100; total time=   0.2s\n",
      "[CV] END max_depth=None, min_samples_leaf=1, min_samples_split=5, n_estimators=100; total time=   0.2s\n",
      "[CV] END max_depth=None, min_samples_leaf=1, min_samples_split=10, n_estimators=100; total time=   0.2s\n",
      "[CV] END max_depth=None, min_samples_leaf=2, min_samples_split=2, n_estimators=50; total time=   0.1s\n",
      "[CV] END max_depth=None, min_samples_leaf=2, min_samples_split=2, n_estimators=150; total time=   0.3s\n",
      "[CV] END max_depth=None, min_samples_leaf=2, min_samples_split=10, n_estimators=50; total time=   0.1s\n",
      "[CV] END max_depth=None, min_samples_leaf=2, min_samples_split=10, n_estimators=100; total time=   0.2s\n",
      "[CV] END max_depth=None, min_samples_leaf=4, min_samples_split=2, n_estimators=100; total time=   0.2s\n",
      "[CV] END max_depth=None, min_samples_leaf=4, min_samples_split=5, n_estimators=50; total time=   0.1s\n",
      "[CV] END max_depth=None, min_samples_leaf=4, min_samples_split=5, n_estimators=150; total time=   0.3s\n",
      "[CV] END max_depth=10, min_samples_leaf=1, min_samples_split=2, n_estimators=50; total time=   0.1s\n",
      "[CV] END max_depth=10, min_samples_leaf=1, min_samples_split=2, n_estimators=100; total time=   0.2s\n",
      "[CV] END max_depth=10, min_samples_leaf=1, min_samples_split=5, n_estimators=50; total time=   0.1s\n",
      "[CV] END max_depth=10, min_samples_leaf=1, min_samples_split=5, n_estimators=150; total time=   0.3s\n",
      "[CV] END max_depth=10, min_samples_leaf=2, min_samples_split=2, n_estimators=50; total time=   0.1s\n",
      "[CV] END max_depth=10, min_samples_leaf=2, min_samples_split=2, n_estimators=100; total time=   0.2s\n",
      "[CV] END max_depth=10, min_samples_leaf=2, min_samples_split=5, n_estimators=100; total time=   0.2s\n",
      "[CV] END max_depth=10, min_samples_leaf=2, min_samples_split=10, n_estimators=100; total time=   0.2s\n",
      "[CV] END max_depth=10, min_samples_leaf=4, min_samples_split=2, n_estimators=100; total time=   0.2s\n",
      "[CV] END max_depth=10, min_samples_leaf=4, min_samples_split=5, n_estimators=50; total time=   0.1s\n",
      "[CV] END max_depth=10, min_samples_leaf=4, min_samples_split=5, n_estimators=150; total time=   0.3s\n",
      "[CV] END max_depth=20, min_samples_leaf=1, min_samples_split=2, n_estimators=50; total time=   0.1s\n",
      "[CV] END max_depth=20, min_samples_leaf=1, min_samples_split=2, n_estimators=100; total time=   0.2s\n",
      "[CV] END max_depth=20, min_samples_leaf=1, min_samples_split=5, n_estimators=100; total time=   0.2s\n",
      "[CV] END max_depth=20, min_samples_leaf=1, min_samples_split=10, n_estimators=100; total time=   0.3s\n",
      "[CV] END max_depth=20, min_samples_leaf=2, min_samples_split=2, n_estimators=100; total time=   0.2s\n",
      "[CV] END max_depth=20, min_samples_leaf=2, min_samples_split=5, n_estimators=100; total time=   0.2s\n",
      "[CV] END max_depth=20, min_samples_leaf=2, min_samples_split=10, n_estimators=100; total time=   0.2s\n",
      "[CV] END max_depth=20, min_samples_leaf=4, min_samples_split=2, n_estimators=50; total time=   0.1s\n",
      "[CV] END max_depth=20, min_samples_leaf=4, min_samples_split=2, n_estimators=150; total time=   0.3s\n",
      "[CV] END max_depth=20, min_samples_leaf=4, min_samples_split=10, n_estimators=50; total time=   0.1s\n",
      "[CV] END max_depth=20, min_samples_leaf=4, min_samples_split=10, n_estimators=100; total time=   0.2s\n",
      "[CV] END max_depth=30, min_samples_leaf=1, min_samples_split=2, n_estimators=100; total time=   0.2s\n",
      "[CV] END max_depth=30, min_samples_leaf=1, min_samples_split=5, n_estimators=50; total time=   0.1s\n",
      "[CV] END max_depth=30, min_samples_leaf=1, min_samples_split=5, n_estimators=150; total time=   0.3s\n",
      "[CV] END max_depth=30, min_samples_leaf=2, min_samples_split=2, n_estimators=50; total time=   0.1s\n",
      "[CV] END max_depth=30, min_samples_leaf=2, min_samples_split=2, n_estimators=100; total time=   0.2s\n",
      "[CV] END max_depth=30, min_samples_leaf=2, min_samples_split=5, n_estimators=100; total time=   0.2s\n",
      "[CV] END max_depth=30, min_samples_leaf=2, min_samples_split=10, n_estimators=50; total time=   0.1s\n",
      "[CV] END max_depth=30, min_samples_leaf=2, min_samples_split=10, n_estimators=150; total time=   0.3s\n",
      "[CV] END max_depth=30, min_samples_leaf=4, min_samples_split=5, n_estimators=50; total time=   0.1s\n",
      "[CV] END max_depth=30, min_samples_leaf=4, min_samples_split=5, n_estimators=100; total time=   0.2s\n",
      "[CV] END max_depth=30, min_samples_leaf=4, min_samples_split=10, n_estimators=100; total time=   0.2s\n",
      "[CV] END learning_rate=0.01, max_depth=3, min_samples_split=2, n_estimators=100; total time=   1.7s\n",
      "[CV] END learning_rate=0.01, max_depth=3, min_samples_split=4, n_estimators=100; total time=   1.7s\n",
      "[CV] END learning_rate=0.01, max_depth=3, min_samples_split=6, n_estimators=100; total time=   1.7s\n",
      "[CV] END learning_rate=0.01, max_depth=5, min_samples_split=2, n_estimators=50; total time=   1.4s\n",
      "[CV] END learning_rate=0.01, max_depth=5, min_samples_split=2, n_estimators=150; total time=   4.1s\n",
      "[CV] END learning_rate=0.01, max_depth=5, min_samples_split=6, n_estimators=50; total time=   1.4s\n",
      "[CV] END learning_rate=0.01, max_depth=5, min_samples_split=6, n_estimators=150; total time=   4.0s\n",
      "[CV] END learning_rate=0.01, max_depth=7, min_samples_split=2, n_estimators=150; total time=   6.0s\n",
      "[CV] END learning_rate=0.01, max_depth=7, min_samples_split=6, n_estimators=50; total time=   1.8s\n",
      "[CV] END learning_rate=0.01, max_depth=7, min_samples_split=6, n_estimators=150; total time=   5.8s\n",
      "[CV] END learning_rate=0.1, max_depth=3, min_samples_split=4, n_estimators=100; total time=   1.8s\n",
      "[CV] END learning_rate=0.1, max_depth=3, min_samples_split=6, n_estimators=50; total time=   0.9s\n",
      "[CV] END learning_rate=0.1, max_depth=3, min_samples_split=6, n_estimators=150; total time=   2.6s\n",
      "[CV] END learning_rate=0.1, max_depth=5, min_samples_split=4, n_estimators=50; total time=   1.5s\n",
      "[CV] END learning_rate=0.1, max_depth=5, min_samples_split=4, n_estimators=100; total time=   2.6s\n",
      "[CV] END learning_rate=0.1, max_depth=5, min_samples_split=6, n_estimators=100; total time=   2.7s\n",
      "[CV] END learning_rate=0.1, max_depth=7, min_samples_split=2, n_estimators=50; total time=   2.0s\n",
      "[CV] END learning_rate=0.1, max_depth=7, min_samples_split=2, n_estimators=150; total time=   5.5s\n",
      "[CV] END learning_rate=0.1, max_depth=7, min_samples_split=4, n_estimators=150; total time=   5.7s\n",
      "[CV] END learning_rate=0.2, max_depth=3, min_samples_split=2, n_estimators=100; total time=   1.6s\n",
      "[CV] END learning_rate=0.2, max_depth=3, min_samples_split=2, n_estimators=150; total time=   2.5s\n",
      "[CV] END learning_rate=0.2, max_depth=3, min_samples_split=6, n_estimators=50; total time=   0.9s\n",
      "[CV] END learning_rate=0.2, max_depth=3, min_samples_split=6, n_estimators=150; total time=   2.7s\n",
      "[CV] END learning_rate=0.2, max_depth=5, min_samples_split=2, n_estimators=150; total time=   3.6s\n",
      "[CV] END learning_rate=0.2, max_depth=5, min_samples_split=6, n_estimators=50; total time=   1.4s\n",
      "[CV] END learning_rate=0.2, max_depth=5, min_samples_split=6, n_estimators=100; total time=   2.5s\n",
      "[CV] END learning_rate=0.2, max_depth=7, min_samples_split=2, n_estimators=100; total time=   3.3s\n",
      "[CV] END learning_rate=0.2, max_depth=7, min_samples_split=4, n_estimators=100; total time=   3.2s\n",
      "[CV] END learning_rate=0.2, max_depth=7, min_samples_split=6, n_estimators=50; total time=   1.8s\n",
      "[CV] END max_depth=None, min_samples_leaf=1, min_samples_split=2, n_estimators=100; total time=   0.2s\n",
      "[CV] END max_depth=None, min_samples_leaf=1, min_samples_split=5, n_estimators=50; total time=   0.1s\n",
      "[CV] END max_depth=None, min_samples_leaf=1, min_samples_split=5, n_estimators=150; total time=   0.3s\n",
      "[CV] END max_depth=None, min_samples_leaf=2, min_samples_split=2, n_estimators=50; total time=   0.1s\n",
      "[CV] END max_depth=None, min_samples_leaf=2, min_samples_split=2, n_estimators=100; total time=   0.2s\n",
      "[CV] END max_depth=None, min_samples_leaf=2, min_samples_split=5, n_estimators=100; total time=   0.2s\n",
      "[CV] END max_depth=None, min_samples_leaf=2, min_samples_split=10, n_estimators=100; total time=   0.2s\n",
      "[CV] END max_depth=None, min_samples_leaf=4, min_samples_split=2, n_estimators=50; total time=   0.1s\n",
      "[CV] END max_depth=None, min_samples_leaf=4, min_samples_split=2, n_estimators=150; total time=   0.3s\n",
      "[CV] END max_depth=None, min_samples_leaf=4, min_samples_split=5, n_estimators=150; total time=   0.3s\n",
      "[CV] END max_depth=10, min_samples_leaf=1, min_samples_split=2, n_estimators=50; total time=   0.1s\n",
      "[CV] END max_depth=10, min_samples_leaf=1, min_samples_split=2, n_estimators=150; total time=   0.3s\n",
      "[CV] END max_depth=10, min_samples_leaf=1, min_samples_split=10, n_estimators=50; total time=   0.1s\n",
      "[CV] END max_depth=10, min_samples_leaf=1, min_samples_split=10, n_estimators=100; total time=   0.2s\n",
      "[CV] END max_depth=10, min_samples_leaf=2, min_samples_split=2, n_estimators=100; total time=   0.2s\n",
      "[CV] END max_depth=10, min_samples_leaf=2, min_samples_split=5, n_estimators=50; total time=   0.1s\n",
      "[CV] END max_depth=10, min_samples_leaf=2, min_samples_split=5, n_estimators=150; total time=   0.3s\n",
      "[CV] END max_depth=10, min_samples_leaf=4, min_samples_split=2, n_estimators=50; total time=   0.1s\n",
      "[CV] END max_depth=10, min_samples_leaf=4, min_samples_split=2, n_estimators=100; total time=   0.2s\n",
      "[CV] END max_depth=10, min_samples_leaf=4, min_samples_split=5, n_estimators=100; total time=   0.2s\n",
      "[CV] END max_depth=10, min_samples_leaf=4, min_samples_split=10, n_estimators=100; total time=   0.2s\n",
      "[CV] END max_depth=20, min_samples_leaf=1, min_samples_split=2, n_estimators=50; total time=   0.1s\n",
      "[CV] END max_depth=20, min_samples_leaf=1, min_samples_split=2, n_estimators=150; total time=   0.4s\n",
      "[CV] END max_depth=20, min_samples_leaf=1, min_samples_split=10, n_estimators=50; total time=   0.1s\n",
      "[CV] END max_depth=20, min_samples_leaf=1, min_samples_split=10, n_estimators=100; total time=   0.2s\n",
      "[CV] END max_depth=20, min_samples_leaf=2, min_samples_split=2, n_estimators=100; total time=   0.2s\n",
      "[CV] END max_depth=20, min_samples_leaf=2, min_samples_split=5, n_estimators=50; total time=   0.1s\n",
      "[CV] END max_depth=20, min_samples_leaf=2, min_samples_split=5, n_estimators=150; total time=   0.3s\n",
      "[CV] END max_depth=20, min_samples_leaf=4, min_samples_split=2, n_estimators=50; total time=   0.1s\n",
      "[CV] END max_depth=20, min_samples_leaf=4, min_samples_split=2, n_estimators=100; total time=   0.2s\n",
      "[CV] END max_depth=20, min_samples_leaf=4, min_samples_split=5, n_estimators=100; total time=   0.2s\n",
      "[CV] END max_depth=20, min_samples_leaf=4, min_samples_split=10, n_estimators=100; total time=   0.2s\n",
      "[CV] END max_depth=30, min_samples_leaf=1, min_samples_split=2, n_estimators=50; total time=   0.1s\n",
      "[CV] END max_depth=30, min_samples_leaf=1, min_samples_split=2, n_estimators=150; total time=   0.3s\n",
      "[CV] END max_depth=30, min_samples_leaf=1, min_samples_split=5, n_estimators=150; total time=   0.3s\n",
      "[CV] END max_depth=30, min_samples_leaf=2, min_samples_split=2, n_estimators=50; total time=   0.1s\n",
      "[CV] END max_depth=30, min_samples_leaf=2, min_samples_split=2, n_estimators=150; total time=   0.3s\n",
      "[CV] END max_depth=30, min_samples_leaf=2, min_samples_split=10, n_estimators=50; total time=   0.1s\n",
      "[CV] END max_depth=30, min_samples_leaf=2, min_samples_split=10, n_estimators=100; total time=   0.2s\n",
      "[CV] END max_depth=30, min_samples_leaf=4, min_samples_split=2, n_estimators=100; total time=   0.2s\n",
      "[CV] END max_depth=30, min_samples_leaf=4, min_samples_split=5, n_estimators=50; total time=   0.1s\n",
      "[CV] END max_depth=30, min_samples_leaf=4, min_samples_split=5, n_estimators=150; total time=   0.3s\n",
      "[CV] END learning_rate=0.01, max_depth=3, min_samples_split=2, n_estimators=50; total time=   0.9s\n",
      "[CV] END learning_rate=0.01, max_depth=3, min_samples_split=4, n_estimators=50; total time=   0.8s\n",
      "[CV] END learning_rate=0.01, max_depth=3, min_samples_split=4, n_estimators=50; total time=   0.9s\n",
      "[CV] END learning_rate=0.01, max_depth=3, min_samples_split=4, n_estimators=150; total time=   2.6s\n",
      "[CV] END learning_rate=0.01, max_depth=5, min_samples_split=2, n_estimators=50; total time=   1.3s\n",
      "[CV] END learning_rate=0.01, max_depth=5, min_samples_split=2, n_estimators=100; total time=   2.7s\n",
      "[CV] END learning_rate=0.01, max_depth=5, min_samples_split=4, n_estimators=150; total time=   4.0s\n",
      "[CV] END learning_rate=0.01, max_depth=5, min_samples_split=6, n_estimators=150; total time=   4.2s\n",
      "[CV] END learning_rate=0.01, max_depth=7, min_samples_split=4, n_estimators=50; total time=   2.1s\n",
      "[CV] END learning_rate=0.01, max_depth=7, min_samples_split=4, n_estimators=150; total time=   5.6s\n",
      "[CV] END learning_rate=0.01, max_depth=7, min_samples_split=6, n_estimators=150; total time=   5.7s\n",
      "[CV] END learning_rate=0.1, max_depth=3, min_samples_split=6, n_estimators=50; total time=   0.9s\n",
      "[CV] END learning_rate=0.1, max_depth=3, min_samples_split=6, n_estimators=100; total time=   1.8s\n",
      "[CV] END learning_rate=0.1, max_depth=5, min_samples_split=2, n_estimators=100; total time=   2.8s\n",
      "[CV] END learning_rate=0.1, max_depth=5, min_samples_split=4, n_estimators=100; total time=   2.7s\n",
      "[CV] END learning_rate=0.1, max_depth=5, min_samples_split=6, n_estimators=50; total time=   1.3s\n",
      "[CV] END learning_rate=0.1, max_depth=5, min_samples_split=6, n_estimators=150; total time=   4.0s\n",
      "[CV] END learning_rate=0.1, max_depth=7, min_samples_split=4, n_estimators=50; total time=   2.1s\n",
      "[CV] END learning_rate=0.1, max_depth=7, min_samples_split=4, n_estimators=50; total time=   2.0s\n",
      "[CV] END learning_rate=0.1, max_depth=7, min_samples_split=4, n_estimators=150; total time=   5.6s\n",
      "[CV] END learning_rate=0.2, max_depth=3, min_samples_split=2, n_estimators=50; total time=   0.9s\n",
      "[CV] END learning_rate=0.2, max_depth=3, min_samples_split=2, n_estimators=100; total time=   1.7s\n",
      "[CV] END learning_rate=0.2, max_depth=3, min_samples_split=4, n_estimators=50; total time=   0.9s\n",
      "[CV] END learning_rate=0.2, max_depth=3, min_samples_split=4, n_estimators=100; total time=   1.8s\n",
      "[CV] END learning_rate=0.2, max_depth=3, min_samples_split=6, n_estimators=50; total time=   0.9s\n",
      "[CV] END learning_rate=0.2, max_depth=3, min_samples_split=6, n_estimators=150; total time=   2.7s\n",
      "[CV] END learning_rate=0.2, max_depth=5, min_samples_split=2, n_estimators=150; total time=   3.6s\n",
      "[CV] END learning_rate=0.2, max_depth=5, min_samples_split=6, n_estimators=50; total time=   1.4s\n",
      "[CV] END learning_rate=0.2, max_depth=5, min_samples_split=6, n_estimators=150; total time=   3.5s\n",
      "[CV] END learning_rate=0.2, max_depth=7, min_samples_split=2, n_estimators=150; total time=   3.7s\n",
      "[CV] END learning_rate=0.2, max_depth=7, min_samples_split=4, n_estimators=150; total time=   3.8s\n"
     ]
    },
    {
     "name": "stdout",
     "output_type": "stream",
     "text": [
      "[CV] END max_depth=None, min_samples_leaf=1, min_samples_split=2, n_estimators=50; total time=   0.1s\n",
      "[CV] END max_depth=None, min_samples_leaf=1, min_samples_split=5, n_estimators=50; total time=   0.1s\n",
      "[CV] END max_depth=None, min_samples_leaf=1, min_samples_split=5, n_estimators=100; total time=   0.2s\n",
      "[CV] END max_depth=None, min_samples_leaf=1, min_samples_split=10, n_estimators=100; total time=   0.2s\n",
      "[CV] END max_depth=None, min_samples_leaf=2, min_samples_split=2, n_estimators=50; total time=   0.1s\n",
      "[CV] END max_depth=None, min_samples_leaf=2, min_samples_split=2, n_estimators=150; total time=   0.3s\n",
      "[CV] END max_depth=None, min_samples_leaf=2, min_samples_split=10, n_estimators=50; total time=   0.1s\n",
      "[CV] END max_depth=None, min_samples_leaf=2, min_samples_split=10, n_estimators=150; total time=   0.3s\n",
      "[CV] END max_depth=None, min_samples_leaf=4, min_samples_split=2, n_estimators=150; total time=   0.3s\n",
      "[CV] END max_depth=None, min_samples_leaf=4, min_samples_split=10, n_estimators=50; total time=   0.1s\n",
      "[CV] END max_depth=None, min_samples_leaf=4, min_samples_split=10, n_estimators=150; total time=   0.3s\n",
      "[CV] END max_depth=10, min_samples_leaf=1, min_samples_split=5, n_estimators=50; total time=   0.1s\n",
      "[CV] END max_depth=10, min_samples_leaf=1, min_samples_split=5, n_estimators=100; total time=   0.2s\n",
      "[CV] END max_depth=10, min_samples_leaf=1, min_samples_split=10, n_estimators=100; total time=   0.2s\n",
      "[CV] END max_depth=10, min_samples_leaf=2, min_samples_split=2, n_estimators=50; total time=   0.1s\n",
      "[CV] END max_depth=10, min_samples_leaf=2, min_samples_split=2, n_estimators=150; total time=   0.3s\n",
      "[CV] END max_depth=10, min_samples_leaf=2, min_samples_split=10, n_estimators=50; total time=   0.1s\n",
      "[CV] END max_depth=10, min_samples_leaf=2, min_samples_split=10, n_estimators=100; total time=   0.2s\n",
      "[CV] END max_depth=10, min_samples_leaf=4, min_samples_split=2, n_estimators=100; total time=   0.2s\n",
      "[CV] END max_depth=10, min_samples_leaf=4, min_samples_split=5, n_estimators=100; total time=   0.2s\n",
      "[CV] END max_depth=10, min_samples_leaf=4, min_samples_split=10, n_estimators=50; total time=   0.1s\n",
      "[CV] END max_depth=10, min_samples_leaf=4, min_samples_split=10, n_estimators=150; total time=   0.3s\n",
      "[CV] END max_depth=20, min_samples_leaf=1, min_samples_split=5, n_estimators=50; total time=   0.1s\n",
      "[CV] END max_depth=20, min_samples_leaf=1, min_samples_split=5, n_estimators=100; total time=   0.3s\n",
      "[CV] END max_depth=20, min_samples_leaf=1, min_samples_split=10, n_estimators=100; total time=   0.2s\n",
      "[CV] END max_depth=20, min_samples_leaf=2, min_samples_split=2, n_estimators=50; total time=   0.1s\n",
      "[CV] END max_depth=20, min_samples_leaf=2, min_samples_split=2, n_estimators=150; total time=   0.3s\n",
      "[CV] END max_depth=20, min_samples_leaf=2, min_samples_split=5, n_estimators=150; total time=   0.3s\n",
      "[CV] END max_depth=20, min_samples_leaf=4, min_samples_split=2, n_estimators=100; total time=   0.2s\n",
      "[CV] END max_depth=20, min_samples_leaf=4, min_samples_split=5, n_estimators=50; total time=   0.1s\n",
      "[CV] END max_depth=20, min_samples_leaf=4, min_samples_split=5, n_estimators=150; total time=   0.3s\n",
      "[CV] END max_depth=20, min_samples_leaf=4, min_samples_split=10, n_estimators=150; total time=   0.3s\n",
      "[CV] END max_depth=30, min_samples_leaf=1, min_samples_split=5, n_estimators=100; total time=   0.2s\n",
      "[CV] END max_depth=30, min_samples_leaf=1, min_samples_split=10, n_estimators=50; total time=   0.1s\n",
      "[CV] END max_depth=30, min_samples_leaf=1, min_samples_split=10, n_estimators=150; total time=   0.3s\n",
      "[CV] END max_depth=30, min_samples_leaf=2, min_samples_split=2, n_estimators=150; total time=   0.3s\n",
      "[CV] END max_depth=30, min_samples_leaf=2, min_samples_split=10, n_estimators=100; total time=   0.2s\n",
      "[CV] END max_depth=30, min_samples_leaf=4, min_samples_split=2, n_estimators=50; total time=   0.1s\n",
      "[CV] END max_depth=30, min_samples_leaf=4, min_samples_split=2, n_estimators=150; total time=   0.3s\n",
      "[CV] END max_depth=30, min_samples_leaf=4, min_samples_split=5, n_estimators=150; total time=   0.3s\n",
      "[CV] END learning_rate=0.01, max_depth=3, min_samples_split=2, n_estimators=100; total time=   1.8s\n",
      "[CV] END learning_rate=0.01, max_depth=3, min_samples_split=4, n_estimators=150; total time=   2.6s\n",
      "[CV] END learning_rate=0.01, max_depth=3, min_samples_split=6, n_estimators=150; total time=   2.6s\n",
      "[CV] END learning_rate=0.01, max_depth=5, min_samples_split=4, n_estimators=50; total time=   1.3s\n",
      "[CV] END learning_rate=0.01, max_depth=5, min_samples_split=4, n_estimators=100; total time=   2.7s\n",
      "[CV] END learning_rate=0.01, max_depth=5, min_samples_split=6, n_estimators=100; total time=   2.8s\n",
      "[CV] END learning_rate=0.01, max_depth=7, min_samples_split=2, n_estimators=50; total time=   1.9s\n",
      "[CV] END learning_rate=0.01, max_depth=7, min_samples_split=2, n_estimators=150; total time=   5.9s\n",
      "[CV] END learning_rate=0.01, max_depth=7, min_samples_split=6, n_estimators=50; total time=   1.8s\n",
      "[CV] END learning_rate=0.01, max_depth=7, min_samples_split=6, n_estimators=100; total time=   3.8s\n",
      "[CV] END learning_rate=0.1, max_depth=3, min_samples_split=2, n_estimators=100; total time=   1.8s\n",
      "[CV] END learning_rate=0.1, max_depth=3, min_samples_split=4, n_estimators=50; total time=   0.8s\n",
      "[CV] END learning_rate=0.1, max_depth=3, min_samples_split=4, n_estimators=100; total time=   1.8s\n",
      "[CV] END learning_rate=0.1, max_depth=3, min_samples_split=6, n_estimators=100; total time=   1.7s\n",
      "[CV] END learning_rate=0.1, max_depth=5, min_samples_split=2, n_estimators=50; total time=   1.4s\n",
      "[CV] END learning_rate=0.1, max_depth=5, min_samples_split=2, n_estimators=150; total time=   4.1s\n",
      "[CV] END learning_rate=0.1, max_depth=5, min_samples_split=6, n_estimators=50; total time=   1.3s\n",
      "[CV] END learning_rate=0.1, max_depth=5, min_samples_split=6, n_estimators=150; total time=   4.0s\n",
      "[CV] END learning_rate=0.1, max_depth=7, min_samples_split=2, n_estimators=150; total time=   5.8s\n",
      "[CV] END learning_rate=0.1, max_depth=7, min_samples_split=6, n_estimators=50; total time=   2.1s\n",
      "[CV] END learning_rate=0.1, max_depth=7, min_samples_split=6, n_estimators=150; total time=   5.5s\n",
      "[CV] END learning_rate=0.2, max_depth=3, min_samples_split=4, n_estimators=50; total time=   0.9s\n",
      "[CV] END learning_rate=0.2, max_depth=3, min_samples_split=4, n_estimators=150; total time=   2.7s\n",
      "[CV] END learning_rate=0.2, max_depth=5, min_samples_split=2, n_estimators=50; total time=   1.4s\n",
      "[CV] END learning_rate=0.2, max_depth=5, min_samples_split=2, n_estimators=150; total time=   3.5s\n",
      "[CV] END learning_rate=0.2, max_depth=5, min_samples_split=4, n_estimators=150; total time=   3.6s\n",
      "[CV] END learning_rate=0.2, max_depth=7, min_samples_split=2, n_estimators=50; total time=   1.9s\n",
      "[CV] END learning_rate=0.2, max_depth=7, min_samples_split=2, n_estimators=150; total time=   3.7s\n",
      "[CV] END learning_rate=0.2, max_depth=7, min_samples_split=6, n_estimators=50; total time=   1.8s\n",
      "[CV] END learning_rate=0.2, max_depth=7, min_samples_split=6, n_estimators=100; total time=   3.1s\n",
      "[CV] END max_depth=None, min_samples_leaf=1, min_samples_split=2, n_estimators=150; total time=   0.3s\n",
      "[CV] END max_depth=None, min_samples_leaf=1, min_samples_split=10, n_estimators=50; total time=   0.1s\n",
      "[CV] END max_depth=None, min_samples_leaf=1, min_samples_split=10, n_estimators=150; total time=   0.3s\n",
      "[CV] END max_depth=None, min_samples_leaf=2, min_samples_split=2, n_estimators=150; total time=   0.3s\n",
      "[CV] END max_depth=None, min_samples_leaf=2, min_samples_split=5, n_estimators=150; total time=   0.3s\n",
      "[CV] END max_depth=None, min_samples_leaf=4, min_samples_split=2, n_estimators=100; total time=   0.2s\n",
      "[CV] END max_depth=None, min_samples_leaf=4, min_samples_split=5, n_estimators=50; total time=   0.1s\n",
      "[CV] END max_depth=None, min_samples_leaf=4, min_samples_split=5, n_estimators=100; total time=   0.2s\n",
      "[CV] END max_depth=None, min_samples_leaf=4, min_samples_split=10, n_estimators=100; total time=   0.2s\n",
      "[CV] END max_depth=10, min_samples_leaf=1, min_samples_split=2, n_estimators=100; total time=   0.2s\n",
      "[CV] END max_depth=10, min_samples_leaf=1, min_samples_split=5, n_estimators=50; total time=   0.1s\n",
      "[CV] END max_depth=10, min_samples_leaf=1, min_samples_split=5, n_estimators=150; total time=   0.3s\n",
      "[CV] END max_depth=10, min_samples_leaf=1, min_samples_split=10, n_estimators=150; total time=   0.3s\n",
      "[CV] END max_depth=10, min_samples_leaf=2, min_samples_split=5, n_estimators=100; total time=   0.2s\n",
      "[CV] END max_depth=10, min_samples_leaf=2, min_samples_split=10, n_estimators=50; total time=   0.1s\n",
      "[CV] END max_depth=10, min_samples_leaf=2, min_samples_split=10, n_estimators=150; total time=   0.3s\n",
      "[CV] END max_depth=10, min_samples_leaf=4, min_samples_split=5, n_estimators=50; total time=   0.1s\n",
      "[CV] END max_depth=10, min_samples_leaf=4, min_samples_split=5, n_estimators=100; total time=   0.2s\n",
      "[CV] END max_depth=10, min_samples_leaf=4, min_samples_split=10, n_estimators=150; total time=   0.3s\n",
      "[CV] END max_depth=20, min_samples_leaf=1, min_samples_split=2, n_estimators=150; total time=   0.4s\n",
      "[CV] END max_depth=20, min_samples_leaf=1, min_samples_split=10, n_estimators=50; total time=   0.1s\n",
      "[CV] END max_depth=20, min_samples_leaf=1, min_samples_split=10, n_estimators=150; total time=   0.3s\n",
      "[CV] END max_depth=20, min_samples_leaf=2, min_samples_split=2, n_estimators=150; total time=   0.3s\n",
      "[CV] END max_depth=20, min_samples_leaf=2, min_samples_split=10, n_estimators=50; total time=   0.1s\n",
      "[CV] END max_depth=20, min_samples_leaf=2, min_samples_split=10, n_estimators=100; total time=   0.2s\n",
      "[CV] END max_depth=20, min_samples_leaf=4, min_samples_split=2, n_estimators=100; total time=   0.2s\n",
      "[CV] END max_depth=20, min_samples_leaf=4, min_samples_split=5, n_estimators=50; total time=   0.1s\n",
      "[CV] END max_depth=20, min_samples_leaf=4, min_samples_split=5, n_estimators=150; total time=   0.3s\n",
      "[CV] END max_depth=30, min_samples_leaf=1, min_samples_split=2, n_estimators=50; total time=   0.1s\n",
      "[CV] END max_depth=30, min_samples_leaf=1, min_samples_split=2, n_estimators=100; total time=   0.2s\n",
      "[CV] END max_depth=30, min_samples_leaf=1, min_samples_split=5, n_estimators=100; total time=   0.2s\n",
      "[CV] END max_depth=30, min_samples_leaf=1, min_samples_split=10, n_estimators=100; total time=   0.2s\n",
      "[CV] END max_depth=30, min_samples_leaf=2, min_samples_split=2, n_estimators=100; total time=   0.2s\n",
      "[CV] END max_depth=30, min_samples_leaf=2, min_samples_split=5, n_estimators=50; total time=   0.1s\n",
      "[CV] END max_depth=30, min_samples_leaf=2, min_samples_split=5, n_estimators=150; total time=   0.3s\n",
      "[CV] END max_depth=30, min_samples_leaf=4, min_samples_split=2, n_estimators=50; total time=   0.1s\n",
      "[CV] END max_depth=30, min_samples_leaf=4, min_samples_split=2, n_estimators=100; total time=   0.2s\n",
      "[CV] END max_depth=30, min_samples_leaf=4, min_samples_split=5, n_estimators=100; total time=   0.2s\n",
      "[CV] END max_depth=30, min_samples_leaf=4, min_samples_split=10, n_estimators=100; total time=   0.2s\n",
      "[CV] END learning_rate=0.01, max_depth=3, min_samples_split=2, n_estimators=50; total time=   0.9s\n",
      "[CV] END learning_rate=0.01, max_depth=3, min_samples_split=2, n_estimators=150; total time=   2.6s\n",
      "[CV] END learning_rate=0.01, max_depth=3, min_samples_split=6, n_estimators=100; total time=   1.7s\n",
      "[CV] END learning_rate=0.01, max_depth=5, min_samples_split=2, n_estimators=50; total time=   1.4s\n",
      "[CV] END learning_rate=0.01, max_depth=5, min_samples_split=2, n_estimators=150; total time=   4.0s\n",
      "[CV] END learning_rate=0.01, max_depth=5, min_samples_split=4, n_estimators=150; total time=   4.1s\n",
      "[CV] END learning_rate=0.01, max_depth=7, min_samples_split=2, n_estimators=100; total time=   4.0s\n",
      "[CV] END learning_rate=0.01, max_depth=7, min_samples_split=4, n_estimators=100; total time=   3.7s\n",
      "[CV] END learning_rate=0.01, max_depth=7, min_samples_split=6, n_estimators=100; total time=   3.6s\n",
      "[CV] END learning_rate=0.1, max_depth=3, min_samples_split=2, n_estimators=50; total time=   0.9s\n",
      "[CV] END learning_rate=0.1, max_depth=3, min_samples_split=2, n_estimators=100; total time=   1.7s\n",
      "[CV] END learning_rate=0.1, max_depth=3, min_samples_split=4, n_estimators=50; total time=   0.8s\n",
      "[CV] END learning_rate=0.1, max_depth=3, min_samples_split=4, n_estimators=50; total time=   0.9s\n",
      "[CV] END learning_rate=0.1, max_depth=3, min_samples_split=4, n_estimators=150; total time=   2.6s\n",
      "[CV] END learning_rate=0.1, max_depth=5, min_samples_split=2, n_estimators=50; total time=   1.4s\n",
      "[CV] END learning_rate=0.1, max_depth=5, min_samples_split=2, n_estimators=150; total time=   4.1s\n",
      "[CV] END learning_rate=0.1, max_depth=5, min_samples_split=6, n_estimators=50; total time=   1.4s\n",
      "[CV] END learning_rate=0.1, max_depth=5, min_samples_split=6, n_estimators=100; total time=   2.8s\n",
      "[CV] END learning_rate=0.1, max_depth=7, min_samples_split=2, n_estimators=100; total time=   4.0s\n",
      "[CV] END learning_rate=0.1, max_depth=7, min_samples_split=4, n_estimators=100; total time=   4.0s\n",
      "[CV] END learning_rate=0.1, max_depth=7, min_samples_split=6, n_estimators=100; total time=   4.0s\n",
      "[CV] END learning_rate=0.2, max_depth=3, min_samples_split=2, n_estimators=50; total time=   0.8s\n",
      "[CV] END learning_rate=0.2, max_depth=3, min_samples_split=2, n_estimators=100; total time=   1.6s\n",
      "[CV] END learning_rate=0.2, max_depth=3, min_samples_split=4, n_estimators=50; total time=   0.9s\n",
      "[CV] END learning_rate=0.2, max_depth=3, min_samples_split=4, n_estimators=100; total time=   1.9s\n",
      "[CV] END learning_rate=0.2, max_depth=3, min_samples_split=6, n_estimators=100; total time=   1.9s\n",
      "[CV] END learning_rate=0.2, max_depth=5, min_samples_split=2, n_estimators=100; total time=   2.7s\n",
      "[CV] END learning_rate=0.2, max_depth=5, min_samples_split=4, n_estimators=100; total time=   2.6s\n",
      "[CV] END learning_rate=0.2, max_depth=5, min_samples_split=6, n_estimators=100; total time=   2.5s\n",
      "[CV] END learning_rate=0.2, max_depth=7, min_samples_split=2, n_estimators=50; total time=   2.0s\n",
      "[CV] END learning_rate=0.2, max_depth=7, min_samples_split=2, n_estimators=150; total time=   3.6s\n",
      "[CV] END learning_rate=0.2, max_depth=7, min_samples_split=6, n_estimators=50; total time=   1.8s\n",
      "[CV] END learning_rate=0.2, max_depth=7, min_samples_split=6, n_estimators=100; total time=   3.2s\n"
     ]
    },
    {
     "name": "stdout",
     "output_type": "stream",
     "text": [
      "[CV] END max_depth=None, min_samples_leaf=1, min_samples_split=2, n_estimators=50; total time=   0.1s\n",
      "[CV] END max_depth=None, min_samples_leaf=1, min_samples_split=5, n_estimators=50; total time=   0.1s\n",
      "[CV] END max_depth=None, min_samples_leaf=1, min_samples_split=5, n_estimators=100; total time=   0.2s\n",
      "[CV] END max_depth=None, min_samples_leaf=1, min_samples_split=10, n_estimators=50; total time=   0.1s\n",
      "[CV] END max_depth=None, min_samples_leaf=1, min_samples_split=10, n_estimators=150; total time=   0.3s\n",
      "[CV] END max_depth=None, min_samples_leaf=2, min_samples_split=5, n_estimators=50; total time=   0.1s\n",
      "[CV] END max_depth=None, min_samples_leaf=2, min_samples_split=5, n_estimators=100; total time=   0.2s\n",
      "[CV] END max_depth=None, min_samples_leaf=2, min_samples_split=10, n_estimators=100; total time=   0.2s\n",
      "[CV] END max_depth=None, min_samples_leaf=4, min_samples_split=2, n_estimators=50; total time=   0.1s\n",
      "[CV] END max_depth=None, min_samples_leaf=4, min_samples_split=2, n_estimators=150; total time=   0.3s\n",
      "[CV] END max_depth=None, min_samples_leaf=4, min_samples_split=10, n_estimators=50; total time=   0.1s\n",
      "[CV] END max_depth=None, min_samples_leaf=4, min_samples_split=10, n_estimators=100; total time=   0.2s\n",
      "[CV] END max_depth=10, min_samples_leaf=1, min_samples_split=2, n_estimators=100; total time=   0.2s\n",
      "[CV] END max_depth=10, min_samples_leaf=1, min_samples_split=5, n_estimators=100; total time=   0.2s\n",
      "[CV] END max_depth=10, min_samples_leaf=1, min_samples_split=10, n_estimators=50; total time=   0.1s\n",
      "[CV] END max_depth=10, min_samples_leaf=1, min_samples_split=10, n_estimators=150; total time=   0.3s\n",
      "[CV] END max_depth=10, min_samples_leaf=2, min_samples_split=5, n_estimators=50; total time=   0.1s\n",
      "[CV] END max_depth=10, min_samples_leaf=2, min_samples_split=5, n_estimators=100; total time=   0.2s\n",
      "[CV] END max_depth=10, min_samples_leaf=2, min_samples_split=10, n_estimators=100; total time=   0.2s\n",
      "[CV] END max_depth=10, min_samples_leaf=4, min_samples_split=2, n_estimators=50; total time=   0.1s\n",
      "[CV] END max_depth=10, min_samples_leaf=4, min_samples_split=2, n_estimators=150; total time=   0.3s\n",
      "[CV] END max_depth=10, min_samples_leaf=4, min_samples_split=10, n_estimators=50; total time=   0.1s\n",
      "[CV] END max_depth=10, min_samples_leaf=4, min_samples_split=10, n_estimators=100; total time=   0.2s\n",
      "[CV] END max_depth=20, min_samples_leaf=1, min_samples_split=2, n_estimators=100; total time=   0.2s\n",
      "[CV] END max_depth=20, min_samples_leaf=1, min_samples_split=5, n_estimators=100; total time=   0.2s\n",
      "[CV] END max_depth=20, min_samples_leaf=1, min_samples_split=10, n_estimators=50; total time=   0.1s\n",
      "[CV] END max_depth=20, min_samples_leaf=1, min_samples_split=10, n_estimators=150; total time=   0.3s\n",
      "[CV] END max_depth=20, min_samples_leaf=2, min_samples_split=5, n_estimators=50; total time=   0.1s\n",
      "[CV] END max_depth=20, min_samples_leaf=2, min_samples_split=5, n_estimators=100; total time=   0.2s\n",
      "[CV] END max_depth=20, min_samples_leaf=2, min_samples_split=10, n_estimators=100; total time=   0.2s\n",
      "[CV] END max_depth=20, min_samples_leaf=4, min_samples_split=2, n_estimators=50; total time=   0.1s\n",
      "[CV] END max_depth=20, min_samples_leaf=4, min_samples_split=2, n_estimators=150; total time=   0.3s\n",
      "[CV] END max_depth=20, min_samples_leaf=4, min_samples_split=5, n_estimators=150; total time=   0.3s\n",
      "[CV] END max_depth=30, min_samples_leaf=1, min_samples_split=2, n_estimators=50; total time=   0.1s\n",
      "[CV] END max_depth=30, min_samples_leaf=1, min_samples_split=2, n_estimators=150; total time=   0.3s\n",
      "[CV] END max_depth=30, min_samples_leaf=1, min_samples_split=10, n_estimators=50; total time=   0.1s\n",
      "[CV] END max_depth=30, min_samples_leaf=1, min_samples_split=10, n_estimators=100; total time=   0.2s\n",
      "[CV] END max_depth=30, min_samples_leaf=2, min_samples_split=2, n_estimators=100; total time=   0.2s\n",
      "[CV] END max_depth=30, min_samples_leaf=2, min_samples_split=5, n_estimators=100; total time=   0.2s\n",
      "[CV] END max_depth=30, min_samples_leaf=2, min_samples_split=10, n_estimators=50; total time=   0.1s\n",
      "[CV] END max_depth=30, min_samples_leaf=2, min_samples_split=10, n_estimators=150; total time=   0.3s\n",
      "[CV] END max_depth=30, min_samples_leaf=4, min_samples_split=2, n_estimators=150; total time=   0.3s\n",
      "[CV] END max_depth=30, min_samples_leaf=4, min_samples_split=10, n_estimators=50; total time=   0.1s\n",
      "[CV] END max_depth=30, min_samples_leaf=4, min_samples_split=10, n_estimators=150; total time=   0.3s\n",
      "[CV] END learning_rate=0.01, max_depth=3, min_samples_split=2, n_estimators=150; total time=   2.6s\n",
      "[CV] END learning_rate=0.01, max_depth=3, min_samples_split=6, n_estimators=50; total time=   0.9s\n",
      "[CV] END learning_rate=0.01, max_depth=3, min_samples_split=6, n_estimators=100; total time=   1.7s\n",
      "[CV] END learning_rate=0.01, max_depth=5, min_samples_split=2, n_estimators=100; total time=   2.7s\n",
      "[CV] END learning_rate=0.01, max_depth=5, min_samples_split=4, n_estimators=50; total time=   1.3s\n",
      "[CV] END learning_rate=0.01, max_depth=5, min_samples_split=4, n_estimators=150; total time=   4.1s\n",
      "[CV] END learning_rate=0.01, max_depth=7, min_samples_split=2, n_estimators=50; total time=   1.9s\n",
      "[CV] END learning_rate=0.01, max_depth=7, min_samples_split=2, n_estimators=100; total time=   4.1s\n",
      "[CV] END learning_rate=0.01, max_depth=7, min_samples_split=4, n_estimators=100; total time=   3.7s\n",
      "[CV] END learning_rate=0.01, max_depth=7, min_samples_split=6, n_estimators=100; total time=   3.6s\n",
      "[CV] END learning_rate=0.1, max_depth=3, min_samples_split=2, n_estimators=100; total time=   1.7s\n",
      "[CV] END learning_rate=0.1, max_depth=3, min_samples_split=2, n_estimators=150; total time=   2.6s\n",
      "[CV] END learning_rate=0.1, max_depth=3, min_samples_split=6, n_estimators=50; total time=   1.0s\n",
      "[CV] END learning_rate=0.1, max_depth=3, min_samples_split=6, n_estimators=150; total time=   2.5s\n",
      "[CV] END learning_rate=0.1, max_depth=5, min_samples_split=2, n_estimators=150; total time=   4.0s\n",
      "[CV] END learning_rate=0.1, max_depth=5, min_samples_split=4, n_estimators=150; total time=   4.1s\n",
      "[CV] END learning_rate=0.1, max_depth=7, min_samples_split=2, n_estimators=100; total time=   4.0s\n",
      "[CV] END learning_rate=0.1, max_depth=7, min_samples_split=4, n_estimators=100; total time=   3.8s\n",
      "[CV] END learning_rate=0.1, max_depth=7, min_samples_split=6, n_estimators=50; total time=   2.2s\n",
      "[CV] END learning_rate=0.1, max_depth=7, min_samples_split=6, n_estimators=150; total time=   5.5s\n",
      "[CV] END learning_rate=0.2, max_depth=3, min_samples_split=4, n_estimators=100; total time=   1.9s\n",
      "[CV] END learning_rate=0.2, max_depth=3, min_samples_split=6, n_estimators=100; total time=   1.9s\n",
      "[CV] END learning_rate=0.2, max_depth=5, min_samples_split=2, n_estimators=100; total time=   2.6s\n",
      "[CV] END learning_rate=0.2, max_depth=5, min_samples_split=4, n_estimators=100; total time=   2.5s\n",
      "[CV] END learning_rate=0.2, max_depth=5, min_samples_split=6, n_estimators=50; total time=   1.4s\n",
      "[CV] END learning_rate=0.2, max_depth=5, min_samples_split=6, n_estimators=150; total time=   3.6s\n",
      "[CV] END learning_rate=0.2, max_depth=7, min_samples_split=4, n_estimators=50; total time=   1.9s\n",
      "[CV] END learning_rate=0.2, max_depth=7, min_samples_split=4, n_estimators=100; total time=   3.4s\n",
      "[CV] END learning_rate=0.2, max_depth=7, min_samples_split=6, n_estimators=100; total time=   3.1s\n",
      "[CV] END max_depth=None, min_samples_leaf=1, min_samples_split=2, n_estimators=100; total time=   0.2s\n",
      "[CV] END max_depth=None, min_samples_leaf=1, min_samples_split=5, n_estimators=150; total time=   0.3s\n",
      "[CV] END max_depth=None, min_samples_leaf=1, min_samples_split=10, n_estimators=150; total time=   0.3s\n",
      "[CV] END max_depth=None, min_samples_leaf=2, min_samples_split=5, n_estimators=100; total time=   0.2s\n",
      "[CV] END max_depth=None, min_samples_leaf=2, min_samples_split=10, n_estimators=50; total time=   0.1s\n",
      "[CV] END max_depth=None, min_samples_leaf=2, min_samples_split=10, n_estimators=150; total time=   0.3s\n",
      "[CV] END max_depth=None, min_samples_leaf=4, min_samples_split=5, n_estimators=50; total time=   0.1s\n",
      "[CV] END max_depth=None, min_samples_leaf=4, min_samples_split=5, n_estimators=150; total time=   0.3s\n",
      "[CV] END max_depth=None, min_samples_leaf=4, min_samples_split=10, n_estimators=150; total time=   0.3s\n",
      "[CV] END max_depth=10, min_samples_leaf=1, min_samples_split=5, n_estimators=100; total time=   0.2s\n",
      "[CV] END max_depth=10, min_samples_leaf=1, min_samples_split=10, n_estimators=100; total time=   0.2s\n",
      "[CV] END max_depth=10, min_samples_leaf=2, min_samples_split=2, n_estimators=50; total time=   0.1s\n",
      "[CV] END max_depth=10, min_samples_leaf=2, min_samples_split=2, n_estimators=150; total time=   0.3s\n",
      "[CV] END max_depth=10, min_samples_leaf=2, min_samples_split=5, n_estimators=150; total time=   0.3s\n",
      "[CV] END max_depth=10, min_samples_leaf=4, min_samples_split=2, n_estimators=50; total time=   0.1s\n",
      "[CV] END max_depth=10, min_samples_leaf=4, min_samples_split=2, n_estimators=150; total time=   0.3s\n",
      "[CV] END max_depth=10, min_samples_leaf=4, min_samples_split=5, n_estimators=150; total time=   0.3s\n",
      "[CV] END max_depth=20, min_samples_leaf=1, min_samples_split=2, n_estimators=50; total time=   0.1s\n",
      "[CV] END max_depth=20, min_samples_leaf=1, min_samples_split=2, n_estimators=150; total time=   0.4s\n",
      "[CV] END max_depth=20, min_samples_leaf=1, min_samples_split=5, n_estimators=150; total time=   0.3s\n",
      "[CV] END max_depth=20, min_samples_leaf=2, min_samples_split=2, n_estimators=50; total time=   0.1s\n",
      "[CV] END max_depth=20, min_samples_leaf=2, min_samples_split=2, n_estimators=150; total time=   0.3s\n",
      "[CV] END max_depth=20, min_samples_leaf=2, min_samples_split=10, n_estimators=50; total time=   0.1s\n",
      "[CV] END max_depth=20, min_samples_leaf=2, min_samples_split=10, n_estimators=150; total time=   0.3s\n",
      "[CV] END max_depth=20, min_samples_leaf=4, min_samples_split=5, n_estimators=50; total time=   0.1s\n",
      "[CV] END max_depth=20, min_samples_leaf=4, min_samples_split=5, n_estimators=100; total time=   0.2s\n",
      "[CV] END max_depth=20, min_samples_leaf=4, min_samples_split=10, n_estimators=100; total time=   0.2s\n",
      "[CV] END max_depth=30, min_samples_leaf=1, min_samples_split=2, n_estimators=100; total time=   0.2s\n",
      "[CV] END max_depth=30, min_samples_leaf=1, min_samples_split=5, n_estimators=50; total time=   0.1s\n",
      "[CV] END max_depth=30, min_samples_leaf=1, min_samples_split=5, n_estimators=150; total time=   0.3s\n",
      "[CV] END max_depth=30, min_samples_leaf=1, min_samples_split=10, n_estimators=150; total time=   0.3s\n",
      "[CV] END max_depth=30, min_samples_leaf=2, min_samples_split=5, n_estimators=50; total time=   0.1s\n",
      "[CV] END max_depth=30, min_samples_leaf=2, min_samples_split=5, n_estimators=150; total time=   0.3s\n",
      "[CV] END max_depth=30, min_samples_leaf=2, min_samples_split=10, n_estimators=150; total time=   0.3s\n",
      "[CV] END max_depth=30, min_samples_leaf=4, min_samples_split=5, n_estimators=100; total time=   0.2s\n",
      "[CV] END max_depth=30, min_samples_leaf=4, min_samples_split=10, n_estimators=50; total time=   0.1s\n",
      "[CV] END max_depth=30, min_samples_leaf=4, min_samples_split=10, n_estimators=150; total time=   0.3s\n",
      "[CV] END learning_rate=0.01, max_depth=3, min_samples_split=2, n_estimators=150; total time=   2.6s\n",
      "[CV] END learning_rate=0.01, max_depth=3, min_samples_split=4, n_estimators=150; total time=   2.6s\n",
      "[CV] END learning_rate=0.01, max_depth=5, min_samples_split=2, n_estimators=100; total time=   2.7s\n",
      "[CV] END learning_rate=0.01, max_depth=5, min_samples_split=4, n_estimators=100; total time=   2.7s\n",
      "[CV] END learning_rate=0.01, max_depth=5, min_samples_split=6, n_estimators=50; total time=   1.4s\n",
      "[CV] END learning_rate=0.01, max_depth=5, min_samples_split=6, n_estimators=100; total time=   2.7s\n",
      "[CV] END learning_rate=0.01, max_depth=7, min_samples_split=2, n_estimators=100; total time=   4.0s\n",
      "[CV] END learning_rate=0.01, max_depth=7, min_samples_split=4, n_estimators=100; total time=   3.7s\n",
      "[CV] END learning_rate=0.01, max_depth=7, min_samples_split=6, n_estimators=50; total time=   1.8s\n",
      "[CV] END learning_rate=0.01, max_depth=7, min_samples_split=6, n_estimators=150; total time=   5.7s\n",
      "[CV] END learning_rate=0.1, max_depth=3, min_samples_split=4, n_estimators=150; total time=   2.6s\n",
      "[CV] END learning_rate=0.1, max_depth=5, min_samples_split=2, n_estimators=50; total time=   1.4s\n",
      "[CV] END learning_rate=0.1, max_depth=5, min_samples_split=2, n_estimators=100; total time=   2.9s\n",
      "[CV] END learning_rate=0.1, max_depth=5, min_samples_split=4, n_estimators=150; total time=   3.9s\n",
      "[CV] END learning_rate=0.1, max_depth=5, min_samples_split=6, n_estimators=150; total time=   4.0s\n",
      "[CV] END learning_rate=0.1, max_depth=7, min_samples_split=4, n_estimators=50; total time=   2.1s\n",
      "[CV] END learning_rate=0.1, max_depth=7, min_samples_split=4, n_estimators=100; total time=   4.1s\n",
      "[CV] END learning_rate=0.1, max_depth=7, min_samples_split=6, n_estimators=100; total time=   3.8s\n",
      "[CV] END learning_rate=0.2, max_depth=3, min_samples_split=2, n_estimators=50; total time=   0.8s\n",
      "[CV] END learning_rate=0.2, max_depth=3, min_samples_split=2, n_estimators=150; total time=   2.4s\n",
      "[CV] END learning_rate=0.2, max_depth=3, min_samples_split=4, n_estimators=150; total time=   2.9s\n",
      "[CV] END learning_rate=0.2, max_depth=5, min_samples_split=2, n_estimators=50; total time=   1.5s\n",
      "[CV] END learning_rate=0.2, max_depth=5, min_samples_split=2, n_estimators=100; total time=   2.7s\n",
      "[CV] END learning_rate=0.2, max_depth=5, min_samples_split=4, n_estimators=150; total time=   3.5s\n",
      "[CV] END learning_rate=0.2, max_depth=5, min_samples_split=6, n_estimators=150; total time=   3.6s\n",
      "[CV] END learning_rate=0.2, max_depth=7, min_samples_split=4, n_estimators=50; total time=   1.9s\n",
      "[CV] END learning_rate=0.2, max_depth=7, min_samples_split=4, n_estimators=100; total time=   3.2s\n",
      "[CV] END learning_rate=0.2, max_depth=7, min_samples_split=6, n_estimators=150; total time=   3.4s\n"
     ]
    },
    {
     "name": "stdout",
     "output_type": "stream",
     "text": [
      "[CV] END max_depth=None, min_samples_leaf=1, min_samples_split=2, n_estimators=50; total time=   0.1s\n",
      "[CV] END max_depth=None, min_samples_leaf=1, min_samples_split=2, n_estimators=150; total time=   0.3s\n",
      "[CV] END max_depth=None, min_samples_leaf=1, min_samples_split=10, n_estimators=50; total time=   0.1s\n",
      "[CV] END max_depth=None, min_samples_leaf=1, min_samples_split=10, n_estimators=100; total time=   0.2s\n",
      "[CV] END max_depth=None, min_samples_leaf=2, min_samples_split=2, n_estimators=100; total time=   0.2s\n",
      "[CV] END max_depth=None, min_samples_leaf=2, min_samples_split=5, n_estimators=50; total time=   0.1s\n",
      "[CV] END max_depth=None, min_samples_leaf=2, min_samples_split=5, n_estimators=150; total time=   0.3s\n",
      "[CV] END max_depth=None, min_samples_leaf=4, min_samples_split=2, n_estimators=50; total time=   0.1s\n",
      "[CV] END max_depth=None, min_samples_leaf=4, min_samples_split=2, n_estimators=100; total time=   0.2s\n",
      "[CV] END max_depth=None, min_samples_leaf=4, min_samples_split=5, n_estimators=100; total time=   0.2s\n",
      "[CV] END max_depth=None, min_samples_leaf=4, min_samples_split=10, n_estimators=100; total time=   0.2s\n",
      "[CV] END max_depth=10, min_samples_leaf=1, min_samples_split=2, n_estimators=50; total time=   0.1s\n",
      "[CV] END max_depth=10, min_samples_leaf=1, min_samples_split=2, n_estimators=150; total time=   0.3s\n",
      "[CV] END max_depth=10, min_samples_leaf=1, min_samples_split=5, n_estimators=150; total time=   0.3s\n",
      "[CV] END max_depth=10, min_samples_leaf=2, min_samples_split=2, n_estimators=100; total time=   0.2s\n",
      "[CV] END max_depth=10, min_samples_leaf=2, min_samples_split=5, n_estimators=50; total time=   0.1s\n",
      "[CV] END max_depth=10, min_samples_leaf=2, min_samples_split=5, n_estimators=150; total time=   0.3s\n",
      "[CV] END max_depth=10, min_samples_leaf=2, min_samples_split=10, n_estimators=150; total time=   0.3s\n",
      "[CV] END max_depth=10, min_samples_leaf=4, min_samples_split=5, n_estimators=50; total time=   0.1s\n",
      "[CV] END max_depth=10, min_samples_leaf=4, min_samples_split=5, n_estimators=150; total time=   0.3s\n",
      "[CV] END max_depth=10, min_samples_leaf=4, min_samples_split=10, n_estimators=150; total time=   0.3s\n",
      "[CV] END max_depth=20, min_samples_leaf=1, min_samples_split=5, n_estimators=50; total time=   0.1s\n",
      "[CV] END max_depth=20, min_samples_leaf=1, min_samples_split=5, n_estimators=150; total time=   0.4s\n",
      "[CV] END max_depth=20, min_samples_leaf=2, min_samples_split=2, n_estimators=50; total time=   0.1s\n",
      "[CV] END max_depth=20, min_samples_leaf=2, min_samples_split=2, n_estimators=100; total time=   0.2s\n",
      "[CV] END max_depth=20, min_samples_leaf=2, min_samples_split=5, n_estimators=100; total time=   0.2s\n",
      "[CV] END max_depth=20, min_samples_leaf=2, min_samples_split=10, n_estimators=50; total time=   0.1s\n",
      "[CV] END max_depth=20, min_samples_leaf=2, min_samples_split=10, n_estimators=150; total time=   0.3s\n",
      "[CV] END max_depth=20, min_samples_leaf=4, min_samples_split=2, n_estimators=150; total time=   0.3s\n",
      "[CV] END max_depth=20, min_samples_leaf=4, min_samples_split=10, n_estimators=50; total time=   0.1s\n",
      "[CV] END max_depth=20, min_samples_leaf=4, min_samples_split=10, n_estimators=150; total time=   0.3s\n",
      "[CV] END max_depth=30, min_samples_leaf=1, min_samples_split=5, n_estimators=50; total time=   0.1s\n",
      "[CV] END max_depth=30, min_samples_leaf=1, min_samples_split=5, n_estimators=100; total time=   0.2s\n",
      "[CV] END max_depth=30, min_samples_leaf=1, min_samples_split=10, n_estimators=50; total time=   0.1s\n",
      "[CV] END max_depth=30, min_samples_leaf=1, min_samples_split=10, n_estimators=150; total time=   0.3s\n",
      "[CV] END max_depth=30, min_samples_leaf=2, min_samples_split=5, n_estimators=50; total time=   0.1s\n",
      "[CV] END max_depth=30, min_samples_leaf=2, min_samples_split=5, n_estimators=100; total time=   0.2s\n",
      "[CV] END max_depth=30, min_samples_leaf=2, min_samples_split=10, n_estimators=100; total time=   0.2s\n",
      "[CV] END max_depth=30, min_samples_leaf=4, min_samples_split=2, n_estimators=100; total time=   0.2s\n",
      "[CV] END max_depth=30, min_samples_leaf=4, min_samples_split=5, n_estimators=50; total time=   0.1s\n",
      "[CV] END max_depth=30, min_samples_leaf=4, min_samples_split=5, n_estimators=150; total time=   0.3s\n",
      "[CV] END max_depth=30, min_samples_leaf=4, min_samples_split=10, n_estimators=150; total time=   0.2s\n",
      "[CV] END learning_rate=0.01, max_depth=3, min_samples_split=2, n_estimators=100; total time=   1.7s\n",
      "[CV] END learning_rate=0.01, max_depth=3, min_samples_split=4, n_estimators=100; total time=   1.7s\n",
      "[CV] END learning_rate=0.01, max_depth=3, min_samples_split=6, n_estimators=50; total time=   0.8s\n",
      "[CV] END learning_rate=0.01, max_depth=3, min_samples_split=6, n_estimators=150; total time=   2.6s\n",
      "[CV] END learning_rate=0.01, max_depth=5, min_samples_split=2, n_estimators=150; total time=   4.1s\n",
      "[CV] END learning_rate=0.01, max_depth=5, min_samples_split=6, n_estimators=100; total time=   2.7s\n",
      "[CV] END learning_rate=0.01, max_depth=7, min_samples_split=2, n_estimators=50; total time=   1.8s\n",
      "[CV] END learning_rate=0.01, max_depth=7, min_samples_split=2, n_estimators=150; total time=   6.0s\n",
      "[CV] END learning_rate=0.01, max_depth=7, min_samples_split=4, n_estimators=150; total time=   5.7s\n",
      "[CV] END learning_rate=0.1, max_depth=3, min_samples_split=2, n_estimators=150; total time=   2.6s\n",
      "[CV] END learning_rate=0.1, max_depth=3, min_samples_split=4, n_estimators=100; total time=   1.7s\n",
      "[CV] END learning_rate=0.1, max_depth=3, min_samples_split=6, n_estimators=100; total time=   1.7s\n",
      "[CV] END learning_rate=0.1, max_depth=5, min_samples_split=2, n_estimators=100; total time=   2.8s\n",
      "[CV] END learning_rate=0.1, max_depth=5, min_samples_split=4, n_estimators=50; total time=   1.3s\n",
      "[CV] END learning_rate=0.1, max_depth=5, min_samples_split=4, n_estimators=150; total time=   3.9s\n",
      "[CV] END learning_rate=0.1, max_depth=7, min_samples_split=2, n_estimators=50; total time=   2.0s\n",
      "[CV] END learning_rate=0.1, max_depth=7, min_samples_split=2, n_estimators=100; total time=   4.0s\n",
      "[CV] END learning_rate=0.1, max_depth=7, min_samples_split=4, n_estimators=150; total time=   5.6s\n",
      "[CV] END learning_rate=0.1, max_depth=7, min_samples_split=6, n_estimators=150; total time=   5.7s\n",
      "[CV] END learning_rate=0.2, max_depth=3, min_samples_split=6, n_estimators=50; total time=   0.9s\n",
      "[CV] END learning_rate=0.2, max_depth=3, min_samples_split=6, n_estimators=100; total time=   1.9s\n",
      "[CV] END learning_rate=0.2, max_depth=5, min_samples_split=2, n_estimators=50; total time=   1.4s\n",
      "[CV] END learning_rate=0.2, max_depth=5, min_samples_split=4, n_estimators=50; total time=   1.4s\n",
      "[CV] END learning_rate=0.2, max_depth=5, min_samples_split=4, n_estimators=50; total time=   1.3s\n",
      "[CV] END learning_rate=0.2, max_depth=5, min_samples_split=4, n_estimators=150; total time=   3.7s\n",
      "[CV] END learning_rate=0.2, max_depth=7, min_samples_split=2, n_estimators=50; total time=   1.9s\n",
      "[CV] END learning_rate=0.2, max_depth=7, min_samples_split=2, n_estimators=100; total time=   3.4s\n",
      "[CV] END learning_rate=0.2, max_depth=7, min_samples_split=4, n_estimators=150; total time=   3.6s\n",
      "[CV] END learning_rate=0.2, max_depth=7, min_samples_split=6, n_estimators=150; total time=   3.4s\n",
      "[CV] END max_depth=None, min_samples_leaf=1, min_samples_split=2, n_estimators=150; total time=   0.4s\n",
      "[CV] END max_depth=None, min_samples_leaf=1, min_samples_split=5, n_estimators=150; total time=   0.3s\n",
      "[CV] END max_depth=None, min_samples_leaf=2, min_samples_split=2, n_estimators=100; total time=   0.2s\n",
      "[CV] END max_depth=None, min_samples_leaf=2, min_samples_split=5, n_estimators=50; total time=   0.1s\n",
      "[CV] END max_depth=None, min_samples_leaf=2, min_samples_split=5, n_estimators=150; total time=   0.3s\n",
      "[CV] END max_depth=None, min_samples_leaf=2, min_samples_split=10, n_estimators=150; total time=   0.3s\n",
      "[CV] END max_depth=None, min_samples_leaf=4, min_samples_split=5, n_estimators=100; total time=   0.2s\n",
      "[CV] END max_depth=None, min_samples_leaf=4, min_samples_split=10, n_estimators=50; total time=   0.1s\n",
      "[CV] END max_depth=None, min_samples_leaf=4, min_samples_split=10, n_estimators=150; total time=   0.3s\n",
      "[CV] END max_depth=10, min_samples_leaf=1, min_samples_split=2, n_estimators=150; total time=   0.3s\n",
      "[CV] END max_depth=10, min_samples_leaf=1, min_samples_split=10, n_estimators=50; total time=   0.1s\n",
      "[CV] END max_depth=10, min_samples_leaf=1, min_samples_split=10, n_estimators=150; total time=   0.3s\n",
      "[CV] END max_depth=10, min_samples_leaf=2, min_samples_split=2, n_estimators=150; total time=   0.3s\n",
      "[CV] END max_depth=10, min_samples_leaf=2, min_samples_split=10, n_estimators=50; total time=   0.1s\n",
      "[CV] END max_depth=10, min_samples_leaf=2, min_samples_split=10, n_estimators=150; total time=   0.3s\n",
      "[CV] END max_depth=10, min_samples_leaf=4, min_samples_split=2, n_estimators=150; total time=   0.3s\n",
      "[CV] END max_depth=10, min_samples_leaf=4, min_samples_split=10, n_estimators=50; total time=   0.1s\n",
      "[CV] END max_depth=10, min_samples_leaf=4, min_samples_split=10, n_estimators=100; total time=   0.2s\n",
      "[CV] END max_depth=20, min_samples_leaf=1, min_samples_split=2, n_estimators=100; total time=   0.2s\n",
      "[CV] END max_depth=20, min_samples_leaf=1, min_samples_split=5, n_estimators=50; total time=   0.1s\n",
      "[CV] END max_depth=20, min_samples_leaf=1, min_samples_split=5, n_estimators=150; total time=   0.4s\n",
      "[CV] END max_depth=20, min_samples_leaf=1, min_samples_split=10, n_estimators=150; total time=   0.3s\n",
      "[CV] END max_depth=20, min_samples_leaf=2, min_samples_split=5, n_estimators=50; total time=   0.1s\n",
      "[CV] END max_depth=20, min_samples_leaf=2, min_samples_split=5, n_estimators=150; total time=   0.3s\n",
      "[CV] END max_depth=20, min_samples_leaf=2, min_samples_split=10, n_estimators=150; total time=   0.3s\n",
      "[CV] END max_depth=20, min_samples_leaf=4, min_samples_split=5, n_estimators=100; total time=   0.2s\n",
      "[CV] END max_depth=20, min_samples_leaf=4, min_samples_split=10, n_estimators=50; total time=   0.1s\n",
      "[CV] END max_depth=20, min_samples_leaf=4, min_samples_split=10, n_estimators=150; total time=   0.3s\n",
      "[CV] END max_depth=30, min_samples_leaf=1, min_samples_split=2, n_estimators=150; total time=   0.3s\n",
      "[CV] END max_depth=30, min_samples_leaf=1, min_samples_split=10, n_estimators=100; total time=   0.2s\n",
      "[CV] END max_depth=30, min_samples_leaf=2, min_samples_split=2, n_estimators=50; total time=   0.1s\n",
      "[CV] END max_depth=30, min_samples_leaf=2, min_samples_split=2, n_estimators=150; total time=   0.3s\n",
      "[CV] END max_depth=30, min_samples_leaf=2, min_samples_split=5, n_estimators=150; total time=   0.3s\n",
      "[CV] END max_depth=30, min_samples_leaf=4, min_samples_split=2, n_estimators=50; total time=   0.1s\n",
      "[CV] END max_depth=30, min_samples_leaf=4, min_samples_split=2, n_estimators=150; total time=   0.3s\n",
      "[CV] END max_depth=30, min_samples_leaf=4, min_samples_split=10, n_estimators=50; total time=   0.1s\n",
      "[CV] END max_depth=30, min_samples_leaf=4, min_samples_split=10, n_estimators=100; total time=   0.2s\n",
      "[CV] END learning_rate=0.01, max_depth=3, min_samples_split=2, n_estimators=50; total time=   0.9s\n",
      "[CV] END learning_rate=0.01, max_depth=3, min_samples_split=4, n_estimators=50; total time=   0.8s\n",
      "[CV] END learning_rate=0.01, max_depth=3, min_samples_split=4, n_estimators=100; total time=   1.7s\n",
      "[CV] END learning_rate=0.01, max_depth=3, min_samples_split=6, n_estimators=50; total time=   0.8s\n",
      "[CV] END learning_rate=0.01, max_depth=3, min_samples_split=6, n_estimators=150; total time=   2.6s\n",
      "[CV] END learning_rate=0.01, max_depth=5, min_samples_split=4, n_estimators=50; total time=   1.3s\n",
      "[CV] END learning_rate=0.01, max_depth=5, min_samples_split=4, n_estimators=100; total time=   2.7s\n",
      "[CV] END learning_rate=0.01, max_depth=5, min_samples_split=6, n_estimators=50; total time=   1.4s\n",
      "[CV] END learning_rate=0.01, max_depth=5, min_samples_split=6, n_estimators=150; total time=   4.1s\n",
      "[CV] END learning_rate=0.01, max_depth=7, min_samples_split=4, n_estimators=50; total time=   2.0s\n",
      "[CV] END learning_rate=0.01, max_depth=7, min_samples_split=4, n_estimators=50; total time=   2.0s\n",
      "[CV] END learning_rate=0.01, max_depth=7, min_samples_split=4, n_estimators=150; total time=   5.5s\n",
      "[CV] END learning_rate=0.1, max_depth=3, min_samples_split=2, n_estimators=50; total time=   0.8s\n",
      "[CV] END learning_rate=0.1, max_depth=3, min_samples_split=2, n_estimators=50; total time=   0.9s\n",
      "[CV] END learning_rate=0.1, max_depth=3, min_samples_split=2, n_estimators=150; total time=   2.5s\n",
      "[CV] END learning_rate=0.1, max_depth=3, min_samples_split=4, n_estimators=150; total time=   2.6s\n",
      "[CV] END learning_rate=0.1, max_depth=3, min_samples_split=6, n_estimators=150; total time=   2.6s\n",
      "[CV] END learning_rate=0.1, max_depth=5, min_samples_split=4, n_estimators=50; total time=   1.5s\n",
      "[CV] END learning_rate=0.1, max_depth=5, min_samples_split=4, n_estimators=100; total time=   2.6s\n",
      "[CV] END learning_rate=0.1, max_depth=5, min_samples_split=6, n_estimators=100; total time=   2.8s\n",
      "[CV] END learning_rate=0.1, max_depth=7, min_samples_split=2, n_estimators=50; total time=   2.0s\n",
      "[CV] END learning_rate=0.1, max_depth=7, min_samples_split=2, n_estimators=150; total time=   5.6s\n",
      "[CV] END learning_rate=0.1, max_depth=7, min_samples_split=6, n_estimators=50; total time=   2.1s\n",
      "[CV] END learning_rate=0.1, max_depth=7, min_samples_split=6, n_estimators=100; total time=   4.0s\n",
      "[CV] END learning_rate=0.2, max_depth=3, min_samples_split=2, n_estimators=150; total time=   2.4s\n",
      "[CV] END learning_rate=0.2, max_depth=3, min_samples_split=4, n_estimators=150; total time=   2.7s\n",
      "[CV] END learning_rate=0.2, max_depth=3, min_samples_split=6, n_estimators=150; total time=   2.6s\n",
      "[CV] END learning_rate=0.2, max_depth=5, min_samples_split=4, n_estimators=50; total time=   1.3s\n",
      "[CV] END learning_rate=0.2, max_depth=5, min_samples_split=4, n_estimators=100; total time=   2.6s\n",
      "[CV] END learning_rate=0.2, max_depth=5, min_samples_split=6, n_estimators=100; total time=   2.5s\n",
      "[CV] END learning_rate=0.2, max_depth=7, min_samples_split=2, n_estimators=100; total time=   3.3s\n",
      "[CV] END learning_rate=0.2, max_depth=7, min_samples_split=4, n_estimators=50; total time=   1.9s\n",
      "[CV] END learning_rate=0.2, max_depth=7, min_samples_split=4, n_estimators=150; total time=   3.5s\n",
      "[CV] END learning_rate=0.2, max_depth=7, min_samples_split=6, n_estimators=150; total time=   3.1s\n"
     ]
    }
   ],
   "source": [
    "print(\"Gradient Boosting Model with Best Parameters:\")\n",
    "print(\"Accuracy:\", gb_best_accuracy)\n",
    "print(\"Classification Report:\\n\", gb_best_report)"
   ]
  },
  {
   "cell_type": "markdown",
   "id": "5d4ab3e1",
   "metadata": {},
   "source": [
    "### Model Interpretation"
   ]
  },
  {
   "cell_type": "code",
   "execution_count": 104,
   "id": "11531717",
   "metadata": {},
   "outputs": [],
   "source": [
    "# Extracting feature importances from the Gradient Boosting model\n",
    "feature_importances = gb_best_model.feature_importances_"
   ]
  },
  {
   "cell_type": "code",
   "execution_count": 105,
   "id": "95f54a05",
   "metadata": {},
   "outputs": [],
   "source": [
    "# Mapping feature importances to the corresponding feature names\n",
    "features = X_train.columns\n",
    "importance_df = pd.DataFrame({'Feature': features, 'Importance': feature_importances})"
   ]
  },
  {
   "cell_type": "code",
   "execution_count": 106,
   "id": "68925f04",
   "metadata": {},
   "outputs": [],
   "source": [
    "# Sorting the features by importance\n",
    "importance_df = importance_df.sort_values(by='Importance', ascending=False)"
   ]
  },
  {
   "cell_type": "code",
   "execution_count": 107,
   "id": "687fd844",
   "metadata": {},
   "outputs": [
    {
     "name": "stdout",
     "output_type": "stream",
     "text": [
      "            Feature  Importance\n",
      "7      Degree_Field    0.378211\n",
      "6        12th_field    0.303902\n",
      "14        MBA_Grade    0.141006\n",
      "1              Age     0.079414\n",
      "2   10th_percentage    0.061681\n"
     ]
    }
   ],
   "source": [
    "# Displaying the most important features\n",
    "print(importance_df.head())"
   ]
  },
  {
   "cell_type": "markdown",
   "id": "2b9bb0ff",
   "metadata": {},
   "source": [
    "### Insights\n",
    "\n",
    "1. **Highest Feature Importance**: 'Degree_Field' and '12th_field' are the most influential factors in predicting the department an employee is likely to be suited for. This suggests that the field of study in higher education and schooling plays a crucial role in departmental allocation.\n",
    "\n",
    "2. **Significance of Academic Performance**: 'MBA_Grade' and '10th_percentage' also show considerable importance. This highlights the relevance of academic performance in determining the right fit for departments.\n",
    "\n",
    "3. **Age as a Factor**: The age of the candidates ('Age') also contributes to the prediction, possibly indicating the preference for certain age groups in specific departments due to experience or dynamism.\n",
    "\n",
    "4. **Model Performance**: The Gradient Boosting model achieved an impressive accuracy of 96.22%, indicating a strong predictive capability.\n",
    "\n",
    "5. **Balanced Metrics**: High precision, recall, and F1-scores across most classes in the Gradient Boosting model suggest balanced performance, reducing the risk of biased predictions towards any particular department.\n",
    "\n",
    "6. **Random Forest as a Close Competitor**: The Random Forest model showed comparable performance, with a slightly lower accuracy of 95.28%. This suggests that ensemble methods are particularly effective for this dataset.\n",
    "\n",
    "7. **Low Performance of SVM**: The SVM model significantly underperformed compared to tree-based models, indicating its lesser suitability for this specific multi-class classification problem.\n",
    "\n",
    "8. **Hyperparameter Tuning Effectiveness**: The improvement in model performance post hyperparameter tuning validates the importance of optimizing model parameters.\n",
    "\n",
    "9. **Impact of Data Preprocessing**: The scaling of features for Logistic Regression and the handling of categorical data likely contributed to the overall model performance, emphasizing the need for appropriate data preprocessing.\n",
    "\n",
    "10. **No Overfitting Indication**: The consistent performance on both training and testing sets implies that the models are not overfitting.\n",
    "\n",
    "### Conclusion\n",
    "\n",
    "This project demonstrates the powerful application of machine learning techniques in human resource management, particularly in predicting departmental suitability based on various employee features. The choice of models, along with thorough hyperparameter tuning and evaluation, led to the development of a robust predictive system. The insights gained can be leveraged to enhance recruitment processes, tailor training programs, and improve overall departmental alignment based on candidate profiles. This data-driven approach could significantly contribute to more efficient human resource management and optimized employee allocation across departments.\n",
    "\n",
    "For future enhancements, consider exploring more sophisticated models, feature engineering techniques, and possibly deep learning approaches if the dataset size and complexity increase. Regular model retraining and updates with new data would also be crucial to maintain its relevance and accuracy over time."
   ]
  }
 ],
 "metadata": {
  "kernelspec": {
   "display_name": "Python 3 (ipykernel)",
   "language": "python",
   "name": "python3"
  },
  "language_info": {
   "codemirror_mode": {
    "name": "ipython",
    "version": 3
   },
   "file_extension": ".py",
   "mimetype": "text/x-python",
   "name": "python",
   "nbconvert_exporter": "python",
   "pygments_lexer": "ipython3",
   "version": "3.11.5"
  }
 },
 "nbformat": 4,
 "nbformat_minor": 5
}
